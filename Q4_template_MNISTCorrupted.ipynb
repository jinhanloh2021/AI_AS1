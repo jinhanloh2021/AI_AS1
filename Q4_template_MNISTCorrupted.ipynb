{
  "cells": [
    {
      "cell_type": "markdown",
      "metadata": {
        "id": "y5niXr3T2K7d"
      },
      "source": [
        "### Question 4"
      ]
    },
    {
      "cell_type": "markdown",
      "metadata": {
        "id": "6EXa6DRW2ZyV"
      },
      "source": [
        "#### Import relevant packages"
      ]
    },
    {
      "cell_type": "code",
      "execution_count": 1,
      "metadata": {
        "id": "Sgf1XoAoC2X2"
      },
      "outputs": [],
      "source": [
        "from matplotlib import pyplot as plt\n",
        "import numpy as np\n",
        "import tensorflow as tf\n",
        "from tensorflow.keras import layers"
      ]
    },
    {
      "cell_type": "markdown",
      "metadata": {
        "id": "MX5zcJj-2kMD"
      },
      "source": [
        "#### (a) Load the dataset `mnist_corrupted/zigzag` from `tensorflow_datasets`. [**2 points**]"
      ]
    },
    {
      "cell_type": "code",
      "execution_count": 2,
      "metadata": {
        "id": "gvzpkwYGWKj0"
      },
      "outputs": [
        {
          "name": "stderr",
          "output_type": "stream",
          "text": [
            "c:\\Users\\jinha\\AppData\\Local\\Programs\\Python\\Python310\\lib\\site-packages\\tqdm\\auto.py:22: TqdmWarning: IProgress not found. Please update jupyter and ipywidgets. See https://ipywidgets.readthedocs.io/en/stable/user_install.html\n",
            "  from .autonotebook import tqdm as notebook_tqdm\n"
          ]
        },
        {
          "name": "stdout",
          "output_type": "stream",
          "text": [
            "Downloading and preparing dataset Unknown size (download: Unknown size, generated: Unknown size, total: Unknown size) to C:\\Users\\jinha\\tensorflow_datasets\\mnist_corrupted\\zigzag\\1.0.0...\n"
          ]
        },
        {
          "name": "stderr",
          "output_type": "stream",
          "text": [
            "Dl Completed...: 0 url [00:00, ? url/s]\n",
            "Dl Completed...:   0%|          | 0/1 [00:00<?, ? url/s]\n",
            "Dl Completed...:   0%|          | 0/1 [00:02<?, ? url/s]\n",
            "Dl Completed...:   0%|          | 0/1 [00:07<?, ? url/s]\n",
            "Dl Completed...:   0%|          | 0/1 [00:12<?, ? url/s]\n",
            "Dl Completed...:   0%|          | 0/1 [00:18<?, ? url/s]\n",
            "Dl Completed...:   0%|          | 0/1 [00:23<?, ? url/s]\n",
            "Dl Completed...:   0%|          | 0/1 [00:29<?, ? url/s]\n",
            "Dl Completed...:   0%|          | 0/1 [00:34<?, ? url/s]\n",
            "Dl Completed...:   0%|          | 0/1 [00:39<?, ? url/s]\n",
            "Dl Completed...:   0%|          | 0/1 [00:45<?, ? url/s]\n",
            "Dl Completed...:   0%|          | 0/1 [00:50<?, ? url/s]\n",
            "Dl Completed...:   0%|          | 0/1 [00:56<?, ? url/s]\n",
            "Dl Completed...:   0%|          | 0/1 [01:01<?, ? url/s]\n",
            "Dl Completed...:   0%|          | 0/1 [01:06<?, ? url/s]\n",
            "Dl Completed...:   0%|          | 0/1 [01:12<?, ? url/s]\n",
            "Dl Completed...:   0%|          | 0/1 [01:17<?, ? url/s]\n",
            "Dl Completed...:   0%|          | 0/1 [01:17<?, ? url/s]\n",
            "Dl Completed...:   0%|          | 0/1 [01:18<?, ? url/s]\n",
            "Dl Completed...:   0%|          | 0/1 [01:19<?, ? url/s]\n",
            "Dl Completed...:   0%|          | 0/1 [01:19<?, ? url/s]\n",
            "Dl Completed...:   0%|          | 0/1 [01:20<?, ? url/s]\n",
            "Dl Completed...:   0%|          | 0/1 [01:21<?, ? url/s]\n",
            "Dl Completed...:   0%|          | 0/1 [01:22<?, ? url/s]\n",
            "Dl Completed...:   0%|          | 0/1 [01:22<?, ? url/s]\n",
            "Dl Completed...:   0%|          | 0/1 [01:23<?, ? url/s]\n",
            "Dl Completed...:   0%|          | 0/1 [01:24<?, ? url/s]\n",
            "Dl Completed...:   0%|          | 0/1 [01:24<?, ? url/s]\n",
            "Dl Completed...:   0%|          | 0/1 [01:25<?, ? url/s]\n",
            "Dl Completed...:   0%|          | 0/1 [01:26<?, ? url/s]\n",
            "Dl Completed...:   0%|          | 0/1 [01:27<?, ? url/s]\n",
            "Dl Completed...:   0%|          | 0/1 [01:27<?, ? url/s]\n",
            "Dl Completed...:   0%|          | 0/1 [01:28<?, ? url/s]\n",
            "Dl Completed...:   0%|          | 0/1 [01:29<?, ? url/s]\n",
            "Dl Completed...:   0%|          | 0/1 [01:30<?, ? url/s]\n",
            "Dl Completed...:   0%|          | 0/1 [01:30<?, ? url/s]\n",
            "Dl Completed...:   0%|          | 0/1 [01:31<?, ? url/s]\n",
            "Dl Completed...:   0%|          | 0/1 [01:32<?, ? url/s]\n",
            "Dl Completed...:   0%|          | 0/1 [01:33<?, ? url/s]\n",
            "Dl Completed...:   0%|          | 0/1 [01:34<?, ? url/s]\n",
            "Dl Completed...:   0%|          | 0/1 [01:34<?, ? url/s]\n",
            "Dl Completed...:   0%|          | 0/1 [01:35<?, ? url/s]\n",
            "Dl Completed...:   0%|          | 0/1 [01:36<?, ? url/s]\n",
            "Dl Completed...:   0%|          | 0/1 [01:37<?, ? url/s]\n",
            "Dl Completed...:   0%|          | 0/1 [01:37<?, ? url/s]\n",
            "Dl Completed...:   0%|          | 0/1 [01:38<?, ? url/s]\n",
            "Dl Completed...:   0%|          | 0/1 [01:39<?, ? url/s]\n",
            "Dl Completed...:   0%|          | 0/1 [01:40<?, ? url/s]\n",
            "Dl Completed...:   0%|          | 0/1 [01:41<?, ? url/s]\n",
            "Dl Completed...:   0%|          | 0/1 [01:42<?, ? url/s]\n",
            "Dl Completed...:   0%|          | 0/1 [01:42<?, ? url/s]\n",
            "Dl Completed...:   0%|          | 0/1 [01:43<?, ? url/s]\n",
            "Dl Completed...:   0%|          | 0/1 [01:44<?, ? url/s]\n",
            "Dl Completed...:   0%|          | 0/1 [01:45<?, ? url/s]\n",
            "Dl Completed...:   0%|          | 0/1 [01:45<?, ? url/s]\n",
            "Dl Completed...:   0%|          | 0/1 [01:46<?, ? url/s]\n",
            "Dl Completed...:   0%|          | 0/1 [01:47<?, ? url/s]\n",
            "Dl Completed...:   0%|          | 0/1 [01:48<?, ? url/s]\n",
            "Dl Completed...:   0%|          | 0/1 [01:49<?, ? url/s]\n",
            "Dl Completed...:   0%|          | 0/1 [01:49<?, ? url/s]\n",
            "Dl Completed...:   0%|          | 0/1 [01:50<?, ? url/s]\n",
            "Dl Completed...:   0%|          | 0/1 [01:51<?, ? url/s]\n",
            "Dl Completed...:   0%|          | 0/1 [01:52<?, ? url/s]\n",
            "Dl Completed...:   0%|          | 0/1 [01:53<?, ? url/s]\n",
            "Dl Completed...:   0%|          | 0/1 [01:54<?, ? url/s]\n",
            "Dl Completed...:   0%|          | 0/1 [01:54<?, ? url/s]\n",
            "Dl Completed...:   0%|          | 0/1 [01:55<?, ? url/s]\n",
            "Dl Completed...:   0%|          | 0/1 [01:56<?, ? url/s]\n",
            "Dl Completed...:   0%|          | 0/1 [01:57<?, ? url/s]\n",
            "Dl Completed...:   0%|          | 0/1 [01:58<?, ? url/s]\n",
            "Dl Completed...:   0%|          | 0/1 [01:58<?, ? url/s]\n",
            "Dl Completed...:   0%|          | 0/1 [01:59<?, ? url/s]\n",
            "Dl Completed...:   0%|          | 0/1 [02:00<?, ? url/s]\n",
            "Dl Completed...:   0%|          | 0/1 [02:01<?, ? url/s]\n",
            "Dl Completed...:   0%|          | 0/1 [02:02<?, ? url/s]\n",
            "Dl Completed...:   0%|          | 0/1 [02:02<?, ? url/s]\n",
            "Dl Completed...:   0%|          | 0/1 [02:03<?, ? url/s]\n",
            "Dl Completed...:   0%|          | 0/1 [02:04<?, ? url/s]\n",
            "Dl Completed...:   0%|          | 0/1 [02:05<?, ? url/s]\n",
            "Dl Completed...:   0%|          | 0/1 [02:06<?, ? url/s]\n",
            "Dl Completed...:   0%|          | 0/1 [02:07<?, ? url/s]\n",
            "Dl Completed...:   0%|          | 0/1 [02:07<?, ? url/s]\n",
            "Dl Completed...:   0%|          | 0/1 [02:08<?, ? url/s]\n",
            "Dl Completed...:   0%|          | 0/1 [02:09<?, ? url/s]\n",
            "Dl Completed...:   0%|          | 0/1 [02:10<?, ? url/s]\n",
            "Dl Completed...:   0%|          | 0/1 [02:11<?, ? url/s]\n",
            "Dl Completed...:   0%|          | 0/1 [02:11<?, ? url/s]\n",
            "Dl Completed...:   0%|          | 0/1 [02:12<?, ? url/s]\n",
            "Dl Completed...:   0%|          | 0/1 [02:13<?, ? url/s]\n",
            "Dl Completed...:   0%|          | 0/1 [02:14<?, ? url/s]\n",
            "Dl Completed...:   0%|          | 0/1 [02:15<?, ? url/s]\n",
            "Dl Completed...:   0%|          | 0/1 [02:16<?, ? url/s]\n",
            "Dl Completed...:   0%|          | 0/1 [02:16<?, ? url/s]\n",
            "Dl Completed...:   0%|          | 0/1 [02:17<?, ? url/s]\n",
            "Dl Completed...:   0%|          | 0/1 [02:18<?, ? url/s]\n",
            "Dl Completed...:   0%|          | 0/1 [02:19<?, ? url/s]\n",
            "Dl Completed...:   0%|          | 0/1 [02:20<?, ? url/s]\n",
            "Dl Completed...:   0%|          | 0/1 [02:20<?, ? url/s]\n",
            "Dl Completed...:   0%|          | 0/1 [02:21<?, ? url/s]\n",
            "Dl Completed...:   0%|          | 0/1 [02:22<?, ? url/s]\n",
            "Dl Completed...:   0%|          | 0/1 [02:23<?, ? url/s]\n",
            "Dl Completed...:   0%|          | 0/1 [02:24<?, ? url/s]\n",
            "Dl Completed...:   0%|          | 0/1 [02:24<?, ? url/s]\n",
            "Dl Completed...:   0%|          | 0/1 [02:25<?, ? url/s]\n",
            "Dl Completed...:   0%|          | 0/1 [02:26<?, ? url/s]\n",
            "Dl Completed...:   0%|          | 0/1 [02:27<?, ? url/s]\n",
            "Dl Completed...:   0%|          | 0/1 [02:28<?, ? url/s]\n",
            "Dl Completed...:   0%|          | 0/1 [02:28<?, ? url/s]\n",
            "Dl Completed...:   0%|          | 0/1 [02:29<?, ? url/s]\n",
            "Dl Completed...:   0%|          | 0/1 [02:30<?, ? url/s]\n",
            "Dl Completed...:   0%|          | 0/1 [02:31<?, ? url/s]\n",
            "Dl Completed...:   0%|          | 0/1 [02:32<?, ? url/s]\n",
            "Dl Completed...:   0%|          | 0/1 [02:33<?, ? url/s]\n",
            "Dl Completed...:   0%|          | 0/1 [02:33<?, ? url/s]\n",
            "Dl Completed...:   0%|          | 0/1 [02:34<?, ? url/s]\n",
            "Dl Completed...:   0%|          | 0/1 [02:35<?, ? url/s]\n",
            "Dl Completed...:   0%|          | 0/1 [02:36<?, ? url/s]\n",
            "Dl Completed...:   0%|          | 0/1 [02:37<?, ? url/s]\n",
            "Dl Completed...:   0%|          | 0/1 [02:37<?, ? url/s]\n",
            "Dl Completed...:   0%|          | 0/1 [02:38<?, ? url/s]\n",
            "Dl Completed...:   0%|          | 0/1 [02:39<?, ? url/s]\n",
            "Dl Completed...:   0%|          | 0/1 [02:40<?, ? url/s]\n",
            "Dl Completed...:   0%|          | 0/1 [02:41<?, ? url/s]\n",
            "Dl Completed...:   0%|          | 0/1 [02:41<?, ? url/s]\n",
            "Dl Completed...:   0%|          | 0/1 [02:42<?, ? url/s]\n",
            "Dl Completed...:   0%|          | 0/1 [02:43<?, ? url/s]\n",
            "Dl Completed...:   0%|          | 0/1 [02:44<?, ? url/s]\n",
            "Dl Completed...:   0%|          | 0/1 [02:45<?, ? url/s]\n",
            "Dl Completed...:   0%|          | 0/1 [02:45<?, ? url/s]\n",
            "Dl Completed...:   0%|          | 0/1 [02:46<?, ? url/s]\n",
            "Dl Completed...:   0%|          | 0/1 [02:47<?, ? url/s]\n",
            "Dl Completed...:   0%|          | 0/1 [02:48<?, ? url/s]\n",
            "Dl Completed...:   0%|          | 0/1 [02:49<?, ? url/s]\n",
            "Dl Completed...:   0%|          | 0/1 [02:50<?, ? url/s]\n",
            "Dl Completed...:   0%|          | 0/1 [02:50<?, ? url/s]\n",
            "Dl Completed...:   0%|          | 0/1 [02:51<?, ? url/s]\n",
            "Dl Completed...:   0%|          | 0/1 [02:52<?, ? url/s]\n",
            "Dl Completed...:   0%|          | 0/1 [02:53<?, ? url/s]\n",
            "Dl Completed...:   0%|          | 0/1 [02:53<?, ? url/s]\n",
            "Dl Completed...:   0%|          | 0/1 [02:54<?, ? url/s]\n",
            "Dl Completed...:   0%|          | 0/1 [02:55<?, ? url/s]\n",
            "Dl Completed...:   0%|          | 0/1 [02:56<?, ? url/s]\n",
            "Dl Completed...:   0%|          | 0/1 [02:57<?, ? url/s]\n",
            "Dl Completed...:   0%|          | 0/1 [02:57<?, ? url/s]\n",
            "Dl Completed...:   0%|          | 0/1 [02:58<?, ? url/s]\n",
            "Dl Completed...:   0%|          | 0/1 [02:59<?, ? url/s]\n",
            "Dl Completed...:   0%|          | 0/1 [03:00<?, ? url/s]\n",
            "Dl Completed...:   0%|          | 0/1 [03:01<?, ? url/s]\n",
            "Dl Completed...:   0%|          | 0/1 [03:01<?, ? url/s]\n",
            "Dl Completed...:   0%|          | 0/1 [03:02<?, ? url/s]\n",
            "Dl Completed...:   0%|          | 0/1 [03:03<?, ? url/s]\n",
            "Dl Completed...:   0%|          | 0/1 [03:04<?, ? url/s]\n",
            "Dl Completed...:   0%|          | 0/1 [03:05<?, ? url/s]\n",
            "Dl Completed...:   0%|          | 0/1 [03:06<?, ? url/s]\n",
            "Dl Completed...:   0%|          | 0/1 [03:06<?, ? url/s]\n",
            "Dl Completed...:   0%|          | 0/1 [03:07<?, ? url/s]\n",
            "Dl Completed...:   0%|          | 0/1 [03:08<?, ? url/s]\n",
            "Dl Completed...:   0%|          | 0/1 [03:09<?, ? url/s]\n",
            "Dl Completed...:   0%|          | 0/1 [03:10<?, ? url/s]\n",
            "Dl Completed...:   0%|          | 0/1 [03:11<?, ? url/s]\n",
            "Dl Completed...:   0%|          | 0/1 [03:12<?, ? url/s]\n",
            "Dl Completed...:   0%|          | 0/1 [03:13<?, ? url/s]\n",
            "Dl Completed...:   0%|          | 0/1 [03:13<?, ? url/s]\n",
            "Dl Completed...:   0%|          | 0/1 [03:14<?, ? url/s]\n",
            "Dl Completed...:   0%|          | 0/1 [03:15<?, ? url/s]\n",
            "Dl Completed...:   0%|          | 0/1 [03:16<?, ? url/s]\n",
            "Dl Completed...:   0%|          | 0/1 [03:17<?, ? url/s]\n",
            "Dl Completed...:   0%|          | 0/1 [03:17<?, ? url/s]\n",
            "Dl Completed...:   0%|          | 0/1 [03:18<?, ? url/s]\n",
            "Dl Completed...:   0%|          | 0/1 [03:19<?, ? url/s]\n",
            "Dl Completed...:   0%|          | 0/1 [03:20<?, ? url/s]\n",
            "Dl Completed...:   0%|          | 0/1 [03:21<?, ? url/s]\n",
            "Dl Completed...:   0%|          | 0/1 [03:21<?, ? url/s]\n",
            "Dl Completed...:   0%|          | 0/1 [03:22<?, ? url/s]\n",
            "Dl Completed...:   0%|          | 0/1 [03:23<?, ? url/s]\n",
            "Dl Completed...:   0%|          | 0/1 [03:24<?, ? url/s]\n",
            "Dl Completed...:   0%|          | 0/1 [03:24<?, ? url/s]\n",
            "Dl Completed...:   0%|          | 0/1 [03:25<?, ? url/s]\n",
            "Dl Completed...:   0%|          | 0/1 [03:26<?, ? url/s]\n",
            "Dl Completed...:   0%|          | 0/1 [03:27<?, ? url/s]\n",
            "Dl Completed...:   0%|          | 0/1 [03:28<?, ? url/s]\n",
            "Dl Completed...:   0%|          | 0/1 [03:29<?, ? url/s]\n",
            "Dl Completed...:   0%|          | 0/1 [03:30<?, ? url/s]\n",
            "Dl Completed...:   0%|          | 0/1 [03:30<?, ? url/s]\n",
            "Dl Completed...:   0%|          | 0/1 [03:31<?, ? url/s]\n",
            "Dl Completed...:   0%|          | 0/1 [03:32<?, ? url/s]\n",
            "Dl Completed...:   0%|          | 0/1 [03:33<?, ? url/s]\n",
            "Dl Completed...:   0%|          | 0/1 [03:34<?, ? url/s]\n",
            "Dl Completed...:   0%|          | 0/1 [03:34<?, ? url/s]\n",
            "Dl Completed...:   0%|          | 0/1 [03:35<?, ? url/s]\n",
            "Dl Completed...:   0%|          | 0/1 [03:36<?, ? url/s]\n",
            "Dl Completed...:   0%|          | 0/1 [03:37<?, ? url/s]\n",
            "Dl Completed...:   0%|          | 0/1 [03:38<?, ? url/s]\n",
            "Dl Completed...:   0%|          | 0/1 [03:38<?, ? url/s]\n",
            "Dl Completed...:   0%|          | 0/1 [03:39<?, ? url/s]\n",
            "Dl Completed...:   0%|          | 0/1 [03:40<?, ? url/s]\n",
            "Dl Completed...:   0%|          | 0/1 [03:41<?, ? url/s]\n",
            "Dl Completed...:   0%|          | 0/1 [03:42<?, ? url/s]\n",
            "Dl Completed...:   0%|          | 0/1 [03:42<?, ? url/s]\n",
            "Dl Completed...:   0%|          | 0/1 [03:43<?, ? url/s]\n",
            "Dl Completed...:   0%|          | 0/1 [03:44<?, ? url/s]\n",
            "Dl Completed...:   0%|          | 0/1 [03:45<?, ? url/s]\n",
            "Dl Completed...:   0%|          | 0/1 [03:46<?, ? url/s]\n",
            "Dl Completed...:   0%|          | 0/1 [03:46<?, ? url/s]\n",
            "Dl Completed...:   0%|          | 0/1 [03:47<?, ? url/s]\n",
            "Dl Completed...:   0%|          | 0/1 [03:48<?, ? url/s]\n",
            "Dl Completed...:   0%|          | 0/1 [03:49<?, ? url/s]\n",
            "Dl Completed...:   0%|          | 0/1 [03:50<?, ? url/s]\n",
            "Dl Completed...:   0%|          | 0/1 [03:50<?, ? url/s]\n",
            "Dl Completed...:   0%|          | 0/1 [03:51<?, ? url/s]\n",
            "Dl Completed...:   0%|          | 0/1 [03:52<?, ? url/s]\n",
            "Dl Completed...:   0%|          | 0/1 [03:53<?, ? url/s]\n",
            "Dl Completed...:   0%|          | 0/1 [03:54<?, ? url/s]\n",
            "Dl Completed...:   0%|          | 0/1 [03:55<?, ? url/s]\n",
            "Dl Completed...:   0%|          | 0/1 [03:55<?, ? url/s]\n",
            "Dl Completed...:   0%|          | 0/1 [03:56<?, ? url/s]\n",
            "Dl Completed...:   0%|          | 0/1 [03:57<?, ? url/s]\n",
            "Dl Completed...:   0%|          | 0/1 [03:58<?, ? url/s]\n",
            "Dl Completed...:   0%|          | 0/1 [03:58<?, ? url/s]\n",
            "Dl Completed...:   0%|          | 0/1 [03:59<?, ? url/s]\n",
            "Dl Completed...:   0%|          | 0/1 [04:00<?, ? url/s]\n",
            "Dl Completed...:   0%|          | 0/1 [04:01<?, ? url/s]\n",
            "Dl Completed...:   0%|          | 0/1 [04:02<?, ? url/s]\n",
            "Dl Completed...:   0%|          | 0/1 [04:02<?, ? url/s]\n",
            "Dl Completed...:   0%|          | 0/1 [04:03<?, ? url/s]\n",
            "Dl Completed...:   0%|          | 0/1 [04:04<?, ? url/s]\n",
            "Dl Completed...:   0%|          | 0/1 [04:05<?, ? url/s]\n",
            "Dl Completed...:   0%|          | 0/1 [04:06<?, ? url/s]\n",
            "Dl Completed...:   0%|          | 0/1 [04:06<?, ? url/s]\n",
            "Dl Completed...:   0%|          | 0/1 [04:07<?, ? url/s]\n",
            "Dl Completed...:   0%|          | 0/1 [04:08<?, ? url/s]\n",
            "Dl Completed...:   0%|          | 0/1 [04:09<?, ? url/s]\n",
            "Dl Completed...:   0%|          | 0/1 [04:09<?, ? url/s]\n",
            "Dl Completed...:   0%|          | 0/1 [04:10<?, ? url/s]\n",
            "Dl Completed...:   0%|          | 0/1 [04:11<?, ? url/s]\n",
            "Dl Completed...:   0%|          | 0/1 [04:12<?, ? url/s]\n",
            "Dl Completed...:   0%|          | 0/1 [04:13<?, ? url/s]\n",
            "Dl Completed...:   0%|          | 0/1 [04:13<?, ? url/s]\n",
            "Dl Completed...: 100%|██████████| 1/1 [04:14<00:00, 254.16s/ url]\n",
            "Dl Completed...: 100%|██████████| 1/1 [04:14<00:00, 254.16s/ url]\n",
            "Dl Completed...: 100%|██████████| 1/1 [04:14<00:00, 254.16s/ url]\n",
            "Dl Completed...: 100%|██████████| 1/1 [04:14<00:00, 254.16s/ url]\n",
            "Dl Completed...: 100%|██████████| 1/1 [04:14<00:00, 254.16s/ url]\n",
            "Dl Completed...: 100%|██████████| 1/1 [04:14<00:00, 254.16s/ url]\n",
            "Dl Completed...: 100%|██████████| 1/1 [04:14<00:00, 254.16s/ url]\n",
            "Dl Completed...: 100%|██████████| 1/1 [04:14<00:00, 254.16s/ url]\n",
            "Dl Completed...: 100%|██████████| 1/1 [04:14<00:00, 254.16s/ url]\n",
            "Dl Completed...: 100%|██████████| 1/1 [04:14<00:00, 254.16s/ url]\n",
            "Dl Completed...: 100%|██████████| 1/1 [04:14<00:00, 254.16s/ url]\n",
            "Dl Completed...: 100%|██████████| 1/1 [04:14<00:00, 254.16s/ url]\n",
            "Dl Completed...: 100%|██████████| 1/1 [04:14<00:00, 254.16s/ url]\n",
            "Dl Completed...: 100%|██████████| 1/1 [04:14<00:00, 254.16s/ url]\n",
            "Dl Completed...: 100%|██████████| 1/1 [04:14<00:00, 254.16s/ url]\n",
            "Dl Completed...: 100%|██████████| 1/1 [04:14<00:00, 254.16s/ url]\n",
            "Dl Completed...: 100%|██████████| 1/1 [04:14<00:00, 254.16s/ url]\n",
            "Dl Completed...: 100%|██████████| 1/1 [04:15<00:00, 254.16s/ url]\n",
            "Dl Completed...: 100%|██████████| 1/1 [04:15<00:00, 254.16s/ url]\n",
            "Dl Completed...: 100%|██████████| 1/1 [04:15<00:00, 254.16s/ url]\n",
            "Dl Completed...: 100%|██████████| 1/1 [04:15<00:00, 254.16s/ url]\n",
            "Dl Completed...: 100%|██████████| 1/1 [04:15<00:00, 254.16s/ url]\n",
            "Dl Completed...: 100%|██████████| 1/1 [04:15<00:00, 254.16s/ url]\n",
            "Dl Completed...: 100%|██████████| 1/1 [04:15<00:00, 254.16s/ url]\n",
            "Dl Completed...: 100%|██████████| 1/1 [04:15<00:00, 254.16s/ url]\n",
            "Dl Completed...: 100%|██████████| 1/1 [04:15<00:00, 254.16s/ url]\n",
            "Dl Completed...: 100%|██████████| 1/1 [04:15<00:00, 254.16s/ url]\n",
            "Dl Completed...: 100%|██████████| 1/1 [04:15<00:00, 254.16s/ url]\n",
            "Dl Completed...: 100%|██████████| 1/1 [04:15<00:00, 254.16s/ url]\n",
            "Dl Completed...: 100%|██████████| 1/1 [04:15<00:00, 254.16s/ url]\n",
            "Dl Completed...: 100%|██████████| 1/1 [04:15<00:00, 254.16s/ url]\n",
            "Dl Completed...: 100%|██████████| 1/1 [04:15<00:00, 254.16s/ url]\n",
            "Dl Completed...: 100%|██████████| 1/1 [04:15<00:00, 254.16s/ url]\n",
            "Dl Completed...: 100%|██████████| 1/1 [04:15<00:00, 254.16s/ url]\n",
            "Dl Completed...: 100%|██████████| 1/1 [04:16<00:00, 254.16s/ url]\n",
            "Dl Completed...: 100%|██████████| 1/1 [04:16<00:00, 254.16s/ url]\n",
            "Dl Completed...: 100%|██████████| 1/1 [04:16<00:00, 254.16s/ url]\n",
            "Dl Completed...: 100%|██████████| 1/1 [04:16<00:00, 254.16s/ url]\n",
            "Dl Completed...: 100%|██████████| 1/1 [04:16<00:00, 254.16s/ url]\n",
            "Dl Completed...: 100%|██████████| 1/1 [04:16<00:00, 254.16s/ url]\n",
            "Dl Completed...: 100%|██████████| 1/1 [04:16<00:00, 254.16s/ url]\n",
            "Dl Completed...: 100%|██████████| 1/1 [04:16<00:00, 254.16s/ url]\n",
            "Dl Completed...: 100%|██████████| 1/1 [04:16<00:00, 254.16s/ url]\n",
            "Dl Completed...: 100%|██████████| 1/1 [04:16<00:00, 254.16s/ url]\n",
            "Dl Completed...: 100%|██████████| 1/1 [04:16<00:00, 254.16s/ url]\n",
            "Dl Completed...: 100%|██████████| 1/1 [04:16<00:00, 254.16s/ url]\n",
            "Dl Completed...: 100%|██████████| 1/1 [04:16<00:00, 254.16s/ url]\n",
            "Dl Completed...: 100%|██████████| 1/1 [04:16<00:00, 254.16s/ url]\n",
            "Dl Completed...: 100%|██████████| 1/1 [04:16<00:00, 254.16s/ url]\n",
            "Dl Completed...: 100%|██████████| 1/1 [04:16<00:00, 254.16s/ url]\n",
            "Dl Completed...: 100%|██████████| 1/1 [04:16<00:00, 254.16s/ url]\n",
            "Dl Completed...: 100%|██████████| 1/1 [04:16<00:00, 254.16s/ url]\n",
            "Dl Completed...: 100%|██████████| 1/1 [04:16<00:00, 254.16s/ url]\n",
            "Dl Completed...: 100%|██████████| 1/1 [04:17<00:00, 254.16s/ url]\n",
            "Dl Completed...: 100%|██████████| 1/1 [04:17<00:00, 254.16s/ url]\n",
            "Dl Completed...: 100%|██████████| 1/1 [04:17<00:00, 254.16s/ url]\n",
            "Dl Completed...: 100%|██████████| 1/1 [04:17<00:00, 254.16s/ url]\n",
            "Dl Completed...: 100%|██████████| 1/1 [04:17<00:00, 254.16s/ url]\n",
            "Dl Completed...: 100%|██████████| 1/1 [04:17<00:00, 254.16s/ url]\n",
            "Dl Completed...: 100%|██████████| 1/1 [04:17<00:00, 254.16s/ url]\n",
            "Dl Completed...: 100%|██████████| 1/1 [04:17<00:00, 254.16s/ url]\n",
            "Dl Completed...: 100%|██████████| 1/1 [04:17<00:00, 254.16s/ url]\n",
            "Dl Completed...: 100%|██████████| 1/1 [04:17<00:00, 254.16s/ url]\n",
            "Dl Completed...: 100%|██████████| 1/1 [04:17<00:00, 254.16s/ url]\n",
            "Dl Completed...: 100%|██████████| 1/1 [04:17<00:00, 254.16s/ url]\n",
            "\u001b[A\n",
            "Dl Completed...: 100%|██████████| 1/1 [04:17<00:00, 254.16s/ url]\n",
            "Dl Completed...: 100%|██████████| 1/1 [04:17<00:00, 254.16s/ url]\n",
            "Dl Completed...: 100%|██████████| 1/1 [04:17<00:00, 254.16s/ url]\n",
            "Dl Completed...: 100%|██████████| 1/1 [04:17<00:00, 254.16s/ url]\n",
            "Dl Completed...: 100%|██████████| 1/1 [04:17<00:00, 254.16s/ url]\n",
            "Dl Completed...: 100%|██████████| 1/1 [04:17<00:00, 254.16s/ url]\n",
            "Dl Completed...: 100%|██████████| 1/1 [04:17<00:00, 254.16s/ url]\n",
            "Dl Completed...: 100%|██████████| 1/1 [04:17<00:00, 254.16s/ url]\n",
            "Dl Completed...: 100%|██████████| 1/1 [04:17<00:00, 254.16s/ url]\n",
            "Dl Completed...: 100%|██████████| 1/1 [04:17<00:00, 254.16s/ url]\n",
            "Dl Completed...: 100%|██████████| 1/1 [04:17<00:00, 254.16s/ url]\n",
            "Dl Completed...: 100%|██████████| 1/1 [04:17<00:00, 254.16s/ url]\n",
            "Dl Completed...: 100%|██████████| 1/1 [04:17<00:00, 254.16s/ url]\n",
            "Dl Completed...: 100%|██████████| 1/1 [04:17<00:00, 254.16s/ url]\n",
            "Dl Completed...: 100%|██████████| 1/1 [04:17<00:00, 254.16s/ url]\n",
            "Dl Completed...: 100%|██████████| 1/1 [04:17<00:00, 254.16s/ url]\n",
            "Dl Completed...: 100%|██████████| 1/1 [04:17<00:00, 254.16s/ url]\n",
            "Dl Completed...: 100%|██████████| 1/1 [04:17<00:00, 254.16s/ url]\n",
            "Dl Completed...: 100%|██████████| 1/1 [04:17<00:00, 254.16s/ url]\n",
            "Dl Completed...: 100%|██████████| 1/1 [04:17<00:00, 254.16s/ url]\n",
            "Dl Completed...: 100%|██████████| 1/1 [04:17<00:00, 254.16s/ url]\n",
            "Dl Completed...: 100%|██████████| 1/1 [04:17<00:00, 254.16s/ url]\n",
            "Dl Completed...: 100%|██████████| 1/1 [04:17<00:00, 254.16s/ url]\n",
            "Dl Completed...: 100%|██████████| 1/1 [04:17<00:00, 254.16s/ url]\n",
            "Dl Completed...: 100%|██████████| 1/1 [04:17<00:00, 254.16s/ url]\n",
            "Dl Completed...: 100%|██████████| 1/1 [04:17<00:00, 254.16s/ url]\n",
            "Dl Completed...: 100%|██████████| 1/1 [04:17<00:00, 254.16s/ url]\n",
            "Dl Completed...: 100%|██████████| 1/1 [04:17<00:00, 254.16s/ url]\n",
            "Dl Completed...: 100%|██████████| 1/1 [04:17<00:00, 254.16s/ url]\n",
            "Dl Completed...: 100%|██████████| 1/1 [04:17<00:00, 254.16s/ url]\n",
            "Dl Completed...: 100%|██████████| 1/1 [04:17<00:00, 254.16s/ url]\n",
            "Dl Completed...: 100%|██████████| 1/1 [04:17<00:00, 254.16s/ url]\n",
            "Dl Completed...: 100%|██████████| 1/1 [04:17<00:00, 254.16s/ url]\n",
            "\u001b[A\n",
            "Dl Completed...: 100%|██████████| 1/1 [04:17<00:00, 254.16s/ url]\n",
            "Dl Completed...: 100%|██████████| 1/1 [04:17<00:00, 254.16s/ url]\n",
            "Dl Completed...: 100%|██████████| 1/1 [04:17<00:00, 254.16s/ url]\n",
            "Dl Completed...: 100%|██████████| 1/1 [04:17<00:00, 254.16s/ url]\n",
            "Dl Completed...: 100%|██████████| 1/1 [04:17<00:00, 254.16s/ url]\n",
            "Dl Completed...: 100%|██████████| 1/1 [04:17<00:00, 254.16s/ url]\n",
            "Dl Completed...: 100%|██████████| 1/1 [04:17<00:00, 254.16s/ url]\n",
            "Dl Completed...: 100%|██████████| 1/1 [04:17<00:00, 254.16s/ url]\n",
            "Dl Completed...: 100%|██████████| 1/1 [04:17<00:00, 254.16s/ url]\n",
            "Dl Completed...: 100%|██████████| 1/1 [04:17<00:00, 254.16s/ url]\n",
            "Dl Completed...: 100%|██████████| 1/1 [04:17<00:00, 254.16s/ url]\n",
            "Dl Completed...: 100%|██████████| 1/1 [04:17<00:00, 254.16s/ url]\n",
            "Dl Completed...: 100%|██████████| 1/1 [04:17<00:00, 254.16s/ url]\n",
            "Dl Completed...: 100%|██████████| 1/1 [04:17<00:00, 254.16s/ url]\n",
            "Dl Completed...: 100%|██████████| 1/1 [04:17<00:00, 254.16s/ url]\n",
            "Dl Completed...: 100%|██████████| 1/1 [04:17<00:00, 254.16s/ url]\n",
            "Dl Completed...: 100%|██████████| 1/1 [04:17<00:00, 254.16s/ url]\n",
            "Dl Completed...: 100%|██████████| 1/1 [04:17<00:00, 254.16s/ url]\n",
            "Dl Completed...: 100%|██████████| 1/1 [04:17<00:00, 254.16s/ url]\n",
            "Dl Completed...: 100%|██████████| 1/1 [04:17<00:00, 254.16s/ url]\n",
            "Dl Completed...: 100%|██████████| 1/1 [04:17<00:00, 254.16s/ url]\n",
            "Dl Completed...: 100%|██████████| 1/1 [04:17<00:00, 254.16s/ url]\n",
            "Dl Completed...: 100%|██████████| 1/1 [04:17<00:00, 254.16s/ url]\n",
            "Dl Completed...: 100%|██████████| 1/1 [04:17<00:00, 254.16s/ url]\n",
            "Dl Completed...: 100%|██████████| 1/1 [04:17<00:00, 254.16s/ url]\n",
            "Dl Completed...: 100%|██████████| 1/1 [04:17<00:00, 254.16s/ url]\n",
            "Dl Completed...: 100%|██████████| 1/1 [04:17<00:00, 254.16s/ url]\n",
            "Dl Completed...: 100%|██████████| 1/1 [04:17<00:00, 254.16s/ url]\n",
            "Dl Completed...: 100%|██████████| 1/1 [04:17<00:00, 254.16s/ url]\n",
            "Dl Completed...: 100%|██████████| 1/1 [04:17<00:00, 254.16s/ url]\n",
            "Dl Completed...: 100%|██████████| 1/1 [04:17<00:00, 254.16s/ url]\n",
            "Extraction completed...: 100%|██████████| 64/64 [04:17<00:00,  4.03s/ file]\n",
            "Dl Size...: 100%|██████████| 235/235 [04:17<00:00,  1.10s/ MiB]\n",
            "Dl Completed...: 100%|██████████| 1/1 [04:17<00:00, 257.87s/ url]\n",
            "                                                                        \r"
          ]
        },
        {
          "name": "stdout",
          "output_type": "stream",
          "text": [
            "Dataset mnist_corrupted downloaded and prepared to C:\\Users\\jinha\\tensorflow_datasets\\mnist_corrupted\\zigzag\\1.0.0. Subsequent calls will reuse this data.\n"
          ]
        }
      ],
      "source": [
        "import tensorflow_datasets as tfds\n",
        "\n",
        "## write your code here\n",
        "dataset_name = \"mnist_corrupted/zigzag\"\n",
        "train_ds = tfds.load(dataset_name, split='train', batch_size=-1, as_supervised=True)\n",
        "test_ds = tfds.load(dataset_name, split='test', batch_size=-1, as_supervised=True)"
      ]
    },
    {
      "cell_type": "code",
      "execution_count": 3,
      "metadata": {
        "id": "WJvBmwEQkzSU"
      },
      "outputs": [],
      "source": [
        "train_images, train_labels = tfds.as_numpy(train_ds)\n",
        "test_images, test_labels   = tfds.as_numpy(test_ds)"
      ]
    },
    {
      "cell_type": "code",
      "execution_count": 4,
      "metadata": {
        "colab": {
          "base_uri": "https://localhost:8080/"
        },
        "id": "puWf0H3Hj7Jr",
        "outputId": "16e513b4-76b0-4f1c-8643-7c4b267eeca8"
      },
      "outputs": [
        {
          "name": "stdout",
          "output_type": "stream",
          "text": [
            "Image size: (28, 28, 1)\n",
            "Training data size: (60000, 28, 28, 1)\n",
            "Training labels size: (60000,)\n",
            "Testing data size: (10000, 28, 28, 1)\n"
          ]
        }
      ],
      "source": [
        "# Test size of different loaded numpy arrays\n",
        "print('Image size:', train_images[0].shape)\n",
        "print('Training data size:',train_images.shape)\n",
        "print('Training labels size:', train_labels.shape)\n",
        "print('Testing data size:', test_images.shape)"
      ]
    },
    {
      "cell_type": "markdown",
      "metadata": {
        "id": "aa-fkHXkqbr4"
      },
      "source": [
        "#### (b) Build a dense ANN with at least one hidden layer with at least two nodes. You should try different hyper parameter configurations to get the best performing ANN (atleast 90% accuracy). [**2 points**]"
      ]
    },
    {
      "cell_type": "code",
      "execution_count": 242,
      "metadata": {
        "colab": {
          "base_uri": "https://localhost:8080/"
        },
        "id": "JPRB2sVOHqEK",
        "outputId": "bd22fd20-2d12-4c38-cc07-76bafe66c9e0"
      },
      "outputs": [
        {
          "name": "stdout",
          "output_type": "stream",
          "text": [
            "Model: \"sequential_77\"\n",
            "_________________________________________________________________\n",
            " Layer (type)                Output Shape              Param #   \n",
            "=================================================================\n",
            " flatten_77 (Flatten)        (None, 784)               0         \n",
            "                                                                 \n",
            " dense_1185 (Dense)          (None, 10)                7850      \n",
            "                                                                 \n",
            " dense_1186 (Dense)          (None, 20)                220       \n",
            "                                                                 \n",
            " dense_1187 (Dense)          (None, 20)                420       \n",
            "                                                                 \n",
            " dense_1188 (Dense)          (None, 60)                1260      \n",
            "                                                                 \n",
            " dense_1189 (Dense)          (None, 60)                3660      \n",
            "                                                                 \n",
            " dense_1190 (Dense)          (None, 80)                4880      \n",
            "                                                                 \n",
            " dense_1191 (Dense)          (None, 80)                6480      \n",
            "                                                                 \n",
            " dense_1192 (Dense)          (None, 100)               8100      \n",
            "                                                                 \n",
            " dense_1193 (Dense)          (None, 100)               10100     \n",
            "                                                                 \n",
            " dense_1194 (Dense)          (None, 80)                8080      \n",
            "                                                                 \n",
            " dense_1195 (Dense)          (None, 80)                6480      \n",
            "                                                                 \n",
            " dense_1196 (Dense)          (None, 60)                4860      \n",
            "                                                                 \n",
            " dense_1197 (Dense)          (None, 60)                3660      \n",
            "                                                                 \n",
            " dense_1198 (Dense)          (None, 20)                1220      \n",
            "                                                                 \n",
            " dense_1199 (Dense)          (None, 20)                420       \n",
            "                                                                 \n",
            " dense_1200 (Dense)          (None, 10)                210       \n",
            "                                                                 \n",
            "=================================================================\n",
            "Total params: 67,900\n",
            "Trainable params: 67,900\n",
            "Non-trainable params: 0\n",
            "_________________________________________________________________\n"
          ]
        }
      ],
      "source": [
        "model = tf.keras.Sequential()\n",
        "outputs = 10 #because there are 10 digits in mnist\n",
        "## write your code here to build your dense ANN. Input layer is created below\n",
        "model.add(layers.Flatten(input_shape=(train_images[0].shape)))\n",
        "model.add(layers.Dense(10, activation=tf.nn.relu))\n",
        "model.add(layers.Dense(20, activation=tf.nn.relu))\n",
        "model.add(layers.Dense(20, activation=tf.nn.relu))\n",
        "model.add(layers.Dense(60, activation=tf.nn.relu))\n",
        "model.add(layers.Dense(60, activation=tf.nn.relu))\n",
        "model.add(layers.Dense(80, activation=tf.nn.relu))\n",
        "model.add(layers.Dense(80, activation=tf.nn.relu))\n",
        "model.add(layers.Dense(100, activation=tf.nn.relu))\n",
        "model.add(layers.Dense(100, activation=tf.nn.relu))\n",
        "model.add(layers.Dense(80, activation=tf.nn.relu))\n",
        "model.add(layers.Dense(80, activation=tf.nn.relu))\n",
        "model.add(layers.Dense(60, activation=tf.nn.relu))\n",
        "model.add(layers.Dense(60, activation=tf.nn.relu))\n",
        "model.add(layers.Dense(20, activation=tf.nn.relu))\n",
        "model.add(layers.Dense(20, activation=tf.nn.relu))\n",
        "model.add(layers.Dense(10, activation=tf.nn.softmax))\n",
        "\n",
        "#10, 20, 20, 12 *\n",
        "# 10, 2* 20, 4 * 60, 100\n",
        "# 10, 2*20, 2*60, 2*80, 100\n",
        "model.summary()"
      ]
    },
    {
      "cell_type": "markdown",
      "metadata": {
        "id": "3jpiyjS6rMVZ"
      },
      "source": [
        "#### (c) Answer the following questions: [**1 point**]\n",
        "\n",
        "What is the size of your output layer? [10]\n",
        "\n",
        "What is the activation function of your output layer? [softmax]"
      ]
    },
    {
      "cell_type": "markdown",
      "metadata": {
        "id": "yTrcDebWsg7J"
      },
      "source": [
        "#### (d) Compile and train your model [**2 points**]\n",
        "\n",
        "What is the loss function you use? [sparse_categorical_crossentropy]"
      ]
    },
    {
      "cell_type": "code",
      "execution_count": 243,
      "metadata": {
        "id": "TXNYaNBnJDof"
      },
      "outputs": [],
      "source": [
        "### write your code here to compile model\n",
        "model.compile(optimizer=\"Adam\", \n",
        "              loss='sparse_categorical_crossentropy',\n",
        "              metrics=['accuracy'])"
      ]
    },
    {
      "cell_type": "code",
      "execution_count": 244,
      "metadata": {
        "colab": {
          "base_uri": "https://localhost:8080/"
        },
        "id": "iQ5oTF2XJFE6",
        "outputId": "d645dac0-1be7-4421-8967-bbda3cb36dfe"
      },
      "outputs": [
        {
          "name": "stdout",
          "output_type": "stream",
          "text": [
            "Epoch 1/10\n",
            "1875/1875 [==============================] - 6s 3ms/step - loss: 0.8529 - accuracy: 0.7117\n",
            "Epoch 2/10\n",
            "1875/1875 [==============================] - 5s 3ms/step - loss: 0.4818 - accuracy: 0.8615\n",
            "Epoch 3/10\n",
            "1875/1875 [==============================] - 5s 3ms/step - loss: 0.4243 - accuracy: 0.8785\n",
            "Epoch 4/10\n",
            "1875/1875 [==============================] - 5s 3ms/step - loss: 0.3942 - accuracy: 0.8898\n",
            "Epoch 5/10\n",
            "1875/1875 [==============================] - 5s 3ms/step - loss: 0.3754 - accuracy: 0.8942\n",
            "Epoch 6/10\n",
            "1875/1875 [==============================] - 5s 3ms/step - loss: 0.3584 - accuracy: 0.8982\n",
            "Epoch 7/10\n",
            "1875/1875 [==============================] - 5s 3ms/step - loss: 0.3499 - accuracy: 0.9022\n",
            "Epoch 8/10\n",
            "1875/1875 [==============================] - 5s 3ms/step - loss: 0.3394 - accuracy: 0.9041\n",
            "Epoch 9/10\n",
            "1875/1875 [==============================] - 5s 3ms/step - loss: 0.3300 - accuracy: 0.9066\n",
            "Epoch 10/10\n",
            "1875/1875 [==============================] - 5s 3ms/step - loss: 0.3241 - accuracy: 0.9086\n"
          ]
        }
      ],
      "source": [
        "### write your code here to train your model\n",
        "epochs = 10\n",
        "history = model.fit(train_images, train_labels, epochs=epochs)"
      ]
    },
    {
      "cell_type": "markdown",
      "metadata": {
        "id": "Bx80XJHjw2vI"
      },
      "source": [
        "#### (e) Plot the training loss across the different epochs [**1 point**]"
      ]
    },
    {
      "cell_type": "code",
      "execution_count": 245,
      "metadata": {
        "colab": {
          "base_uri": "https://localhost:8080/",
          "height": 282
        },
        "id": "Gkv99m3swRmg",
        "outputId": "7ca38b4f-be23-47bc-97b0-e9c618ac03a5"
      },
      "outputs": [
        {
          "data": {
            "text/plain": [
              "[<matplotlib.lines.Line2D at 0x1a98a752b30>]"
            ]
          },
          "execution_count": 245,
          "metadata": {},
          "output_type": "execute_result"
        },
        {
          "data": {
            "image/png": "[encoded data removed]",
            "text/plain": [
              "<Figure size 432x288 with 1 Axes>"
            ]
          },
          "metadata": {
            "needs_background": "light"
          },
          "output_type": "display_data"
        }
      ],
      "source": [
        "plt.plot(history.history[\"loss\"])"
      ]
    },
    {
      "cell_type": "markdown",
      "metadata": {
        "id": "lx3JLnhQyQLZ"
      },
      "source": [
        "#### (f) What is the overall accuracy and per-class accuracy on test dataset? [**1 point**]"
      ]
    },
    {
      "cell_type": "code",
      "execution_count": 246,
      "metadata": {
        "colab": {
          "base_uri": "https://localhost:8080/"
        },
        "id": "ik44l59g6CoH",
        "outputId": "b126cf64-5a7d-4537-eda3-3987630b80c2"
      },
      "outputs": [
        {
          "name": "stdout",
          "output_type": "stream",
          "text": [
            "313/313 [==============================] - 0s 987us/step - loss: 0.3580 - accuracy: 0.9053\n",
            "Test accuracy: 0.9053000211715698\n"
          ]
        }
      ],
      "source": [
        "#### write your code to report overall accuracy on test set\n",
        "test_results = model.evaluate(test_images, test_labels, return_dict=True)\n",
        "# print(test_results)\n",
        "print('Test accuracy:', test_results['accuracy'])"
      ]
    },
    {
      "attachments": {},
      "cell_type": "markdown",
      "metadata": {
        "id": "Sm9unSC26ag1"
      },
      "source": [
        "What is the overall accuracy? [0.9053000211715698]"
      ]
    },
    {
      "cell_type": "code",
      "execution_count": 247,
      "metadata": {
        "colab": {
          "base_uri": "https://localhost:8080/",
          "height": 314
        },
        "id": "yvsWzN3gzxnk",
        "outputId": "565437eb-25ac-4320-98df-e22acc7bae7c"
      },
      "outputs": [
        {
          "name": "stdout",
          "output_type": "stream",
          "text": [
            "313/313 [==============================] - 0s 933us/step\n"
          ]
        },
        {
          "data": {
            "text/plain": [
              "<sklearn.metrics._plot.confusion_matrix.ConfusionMatrixDisplay at 0x1a997b092a0>"
            ]
          },
          "execution_count": 247,
          "metadata": {},
          "output_type": "execute_result"
        },
        {
          "data": {
            "image/png": "[encoded data removed]",
            "text/plain": [
              "<Figure size 432x288 with 2 Axes>"
            ]
          },
          "metadata": {
            "needs_background": "light"
          },
          "output_type": "display_data"
        }
      ],
      "source": [
        "### write your code to report per-class accuracy\n",
        "### Use confusion matrix from sklearn. \n",
        "\n",
        "from sklearn.metrics import confusion_matrix, ConfusionMatrixDisplay\n",
        "image_pred = model.predict(test_images)\n",
        "image_pred_classes = image_pred.argmax(axis=-1)\n",
        "labels = [0,1,2,3,4,5,6,7,8,9]\n",
        "cm = confusion_matrix(test_labels, image_pred_classes, labels=labels)\n",
        "disp = ConfusionMatrixDisplay(confusion_matrix=cm, display_labels=labels)\n",
        "disp.plot()"
      ]
    },
    {
      "cell_type": "markdown",
      "metadata": {
        "id": "4RxuEaspHcWY"
      },
      "source": [
        "**Code to visualize the predictions**"
      ]
    },
    {
      "cell_type": "code",
      "execution_count": 248,
      "metadata": {
        "colab": {
          "base_uri": "https://localhost:8080/",
          "height": 589
        },
        "id": "7tceL6tDNPdT",
        "outputId": "1fe7eb8a-552e-4826-c034-5450b3517330"
      },
      "outputs": [
        {
          "data": {
            "image/png": "[encoded data removed]",
            "text/plain": [
              "<Figure size 720x720 with 25 Axes>"
            ]
          },
          "metadata": {},
          "output_type": "display_data"
        }
      ],
      "source": [
        "import matplotlib.pyplot as plt\n",
        "%matplotlib inline\n",
        "class_names = ['0','1','2','3','4','5','6','7','8','9']\n",
        "plt.figure(figsize=(10,10))\n",
        "for i in range(25):\n",
        "    plt.subplot(5,5,i+1)\n",
        "    plt.xticks([])\n",
        "    plt.yticks([])\n",
        "    plt.grid(False)\n",
        "    plt.imshow(train_images[i].reshape(28, 28), cmap=plt.cm.binary)\n",
        "    #print(train_labels[i][0])\n",
        "    plt.xlabel(class_names[train_labels[i]])"
      ]
    }
  ],
  "metadata": {
    "colab": {
      "provenance": []
    },
    "kernelspec": {
      "display_name": "Python 3",
      "name": "python3"
    },
    "language_info": {
      "name": "python"
    }
  },
  "nbformat": 4,
  "nbformat_minor": 0
}
