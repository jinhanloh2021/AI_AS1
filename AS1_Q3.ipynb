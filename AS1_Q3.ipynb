{
  "cells": [
    {
      "cell_type": "code",
      "execution_count": 1,
      "metadata": {
        "colab": {
          "base_uri": "https://localhost:8080/"
        },
        "id": "xMpL9VvXhJhT",
        "outputId": "88a937bb-7ebd-4b5c-a182-ac1277e14e47"
      },
      "outputs": [
        {
          "name": "stdout",
          "output_type": "stream",
          "text": [
            "Looking in indexes: https://pypi.org/simple, https://us-python.pkg.dev/colab-wheels/public/simple/\n",
            "Requirement already satisfied: pgmpy in /usr/local/lib/python3.8/dist-packages (0.1.21)\n",
            "Requirement already satisfied: numpy in /usr/local/lib/python3.8/dist-packages (from pgmpy) (1.21.6)\n",
            "Requirement already satisfied: torch in /usr/local/lib/python3.8/dist-packages (from pgmpy) (1.13.1+cu116)\n",
            "Requirement already satisfied: opt-einsum in /usr/local/lib/python3.8/dist-packages (from pgmpy) (3.3.0)\n",
            "Requirement already satisfied: joblib in /usr/local/lib/python3.8/dist-packages (from pgmpy) (1.2.0)\n",
            "Requirement already satisfied: scikit-learn in /usr/local/lib/python3.8/dist-packages (from pgmpy) (1.0.2)\n",
            "Requirement already satisfied: pyparsing in /usr/local/lib/python3.8/dist-packages (from pgmpy) (3.0.9)\n",
            "Requirement already satisfied: scipy in /usr/local/lib/python3.8/dist-packages (from pgmpy) (1.7.3)\n",
            "Requirement already satisfied: pandas in /usr/local/lib/python3.8/dist-packages (from pgmpy) (1.3.5)\n",
            "Requirement already satisfied: tqdm in /usr/local/lib/python3.8/dist-packages (from pgmpy) (4.64.1)\n",
            "Requirement already satisfied: networkx in /usr/local/lib/python3.8/dist-packages (from pgmpy) (3.0)\n",
            "Requirement already satisfied: statsmodels in /usr/local/lib/python3.8/dist-packages (from pgmpy) (0.12.2)\n",
            "Requirement already satisfied: pytz>=2017.3 in /usr/local/lib/python3.8/dist-packages (from pandas->pgmpy) (2022.7.1)\n",
            "Requirement already satisfied: python-dateutil>=2.7.3 in /usr/local/lib/python3.8/dist-packages (from pandas->pgmpy) (2.8.2)\n",
            "Requirement already satisfied: threadpoolctl>=2.0.0 in /usr/local/lib/python3.8/dist-packages (from scikit-learn->pgmpy) (3.1.0)\n",
            "Requirement already satisfied: patsy>=0.5 in /usr/local/lib/python3.8/dist-packages (from statsmodels->pgmpy) (0.5.3)\n",
            "Requirement already satisfied: typing-extensions in /usr/local/lib/python3.8/dist-packages (from torch->pgmpy) (4.5.0)\n",
            "Requirement already satisfied: six in /usr/local/lib/python3.8/dist-packages (from patsy>=0.5->statsmodels->pgmpy) (1.15.0)\n"
          ]
        }
      ],
      "source": [
        "!pip install pgmpy"
      ]
    },
    {
      "cell_type": "code",
      "execution_count": 30,
      "metadata": {
        "id": "Zbl0lSCygwTt"
      },
      "outputs": [],
      "source": [
        "from pgmpy.models import BayesianNetwork\n",
        "from pgmpy.factors.discrete import TabularCPD\n",
        "import sys"
      ]
    },
    {
      "cell_type": "code",
      "execution_count": 31,
      "metadata": {
        "id": "ly40UWZlhMw7"
      },
      "outputs": [],
      "source": [
        "# We first create a model which contains the edges of the graph\n",
        "model = BayesianNetwork([('S', 'Y'),\n",
        "                       ('S', 'C'),\n",
        "                       ('A', 'C'),\n",
        "                       ('A', 'I'),\n",
        "                       ('I', 'C'),\n",
        "                       ('R', 'C'),\n",
        "                       ('F', 'R'),\n",
        "                       ('P', 'R'),\n",
        "                       ('R', 'B')])"
      ]
    },
    {
      "cell_type": "code",
      "execution_count": 32,
      "metadata": {
        "id": "bkeOcbxqhiXY"
      },
      "outputs": [],
      "source": [
        "# Enter conditional probability distribution for each variable\n",
        "\n",
        "# Prior probability for Smoking P(S)\n",
        "cpd_S = TabularCPD(variable='S', variable_card=2, values=[[0.9], [0.1]])\n",
        "\n",
        "# Prior probability for Alcohol Abuse P(A)\n",
        "cpd_A = TabularCPD(variable='A', variable_card=2, values=[[0.9], [0.1]])\n",
        "\n",
        "# Prior probability for Solar Flare P(F)\n",
        "cpd_F = TabularCPD(variable='F', variable_card=2, values=[[0.999], [0.001]])\n",
        "\n",
        "# Prior probability for Phone P(P)\n",
        "cpd_P = TabularCPD(variable='P', variable_card=2, values=[[0.001], [0.999]])"
      ]
    },
    {
      "cell_type": "code",
      "execution_count": 33,
      "metadata": {
        "id": "WYcOlCJGnFHQ"
      },
      "outputs": [],
      "source": [
        "# Conditional probability for Yellow fingers or P(Y | S)\n",
        "cpd_Y = TabularCPD(variable='Y', variable_card=2, \n",
        "                   evidence=['S'], evidence_card=[2],\n",
        "                   values=[[0.96, 0.05], [0.04, 0.95]])\n",
        "\n",
        "# Conditional probability for Weakened Immune System or P(I | A)\n",
        "cpd_I = TabularCPD(variable='I', variable_card=2,\n",
        "                   evidence=['A'], evidence_card=[2],\n",
        "                   values=[[0.95, 0.7], [0.05, 0.3]])\n",
        "\n",
        "# Conditional probability for Radiation or P(R | F, P)\n",
        "cpd_R = TabularCPD(variable='R', variable_card=2,\n",
        "                   evidence=['F', 'P'], evidence_card=[2, 2],\n",
        "                   values=[[0.99, 0.95, 0.8, 0.7],\n",
        "                           [0.01, 0.05, 0.2, 0.3]])\n",
        "\n",
        "# Conditional probability for Burn Skin or P(B | R)\n",
        "cpd_B = TabularCPD(variable='B', variable_card=2,\n",
        "                   evidence=['R'], evidence_card=[2],\n",
        "                   values=[[0.98, 0.8], [0.02, 0.2]])\n",
        "\n",
        "# Conditional probability for Cancer or P(C | A, I, R, S)\n",
        "cpd_C = TabularCPD(variable='C', variable_card=2,\n",
        "                   evidence=['A', 'I', 'R', 'S'], evidence_card=[2, 2, 2, 2],\n",
        "                   values=[[0.9, 0.5, 0.8, 0.4, 0.7, 0.4, 0.6, 0.2, 0.8, 0.4, 0.7, 0.3, 0.6, 0.3, 0.5, 0.1], \n",
        "                           [0.1, 0.5, 0.2, 0.6, 0.3, 0.6, 0.4, 0.8, 0.2, 0.6, 0.3, 0.7, 0.4, 0.7, 0.5, 0.9]])"
      ]
    },
    {
      "cell_type": "code",
      "execution_count": 34,
      "metadata": {
        "colab": {
          "base_uri": "https://localhost:8080/"
        },
        "id": "z8Ti6_UBiftX",
        "outputId": "0d1f9d58-f3f8-4c4b-f940-91edc7121472"
      },
      "outputs": [
        {
          "name": "stdout",
          "output_type": "stream",
          "text": [
            "True\n"
          ]
        }
      ],
      "source": [
        "model.add_cpds(cpd_S, cpd_F, cpd_P, cpd_A, cpd_B, cpd_I, cpd_R, cpd_C, cpd_Y)\n",
        "print(model.check_model())"
      ]
    },
    {
      "cell_type": "markdown",
      "metadata": {
        "id": "2imfJNG3npEt"
      },
      "source": [
        "###Inference"
      ]
    },
    {
      "cell_type": "code",
      "execution_count": 35,
      "metadata": {
        "id": "mbos5gG8qBwu"
      },
      "outputs": [],
      "source": [
        "############### Inference ##################\n",
        "\n",
        "from pgmpy.inference import VariableElimination\n",
        "\n",
        "# Going to do variable elimination\n",
        "infer = VariableElimination(model)"
      ]
    },
    {
      "cell_type": "markdown",
      "metadata": {
        "id": "jiBIFT86pCFL"
      },
      "source": [
        "###b) What is the probability of radiation given cancer $C = 1$? Show values for $R\\in\\{0, 1\\}$."
      ]
    },
    {
      "cell_type": "code",
      "execution_count": 36,
      "metadata": {
        "colab": {
          "base_uri": "https://localhost:8080/"
        },
        "id": "5iH_GaR1nq-D",
        "outputId": "6b131db9-03bb-4c76-e25b-cc5963aa2583"
      },
      "outputs": [
        {
          "name": "stdout",
          "output_type": "stream",
          "text": [
            "Probability of Radiation given Cancer\n",
            "+------+----------+\n",
            "| R    |   phi(R) |\n",
            "+======+==========+\n",
            "| R(0) |   0.9214 |\n",
            "+------+----------+\n",
            "| R(1) |   0.0786 |\n",
            "+------+----------+\n"
          ]
        }
      ],
      "source": [
        "# Get probability of Radiation given Cancer P(R=1 | C=1)\n",
        "phi_query = infer.query(['R'], evidence={'C':1}, joint = False)\n",
        "factor = phi_query['R']\n",
        "print('Probability of Radiation given Cancer')\n",
        "print(factor)"
      ]
    },
    {
      "cell_type": "markdown",
      "metadata": {
        "id": "mtUS-0IxpcZh"
      },
      "source": [
        "###C) What is the probability of cancer given the patient has skin burn, yellow fingers and abuses alcohol? Show values for $C\\in\\{0, 1\\}$.\n",
        "$$\\text{Solve }P(C=1\\mid B=1, Y=1, A=1)$$"
      ]
    },
    {
      "cell_type": "code",
      "execution_count": 37,
      "metadata": {
        "colab": {
          "base_uri": "https://localhost:8080/"
        },
        "id": "6hx_9blvp-db",
        "outputId": "28df0a3e-c32b-4b43-f049-9080ebf25710"
      },
      "outputs": [
        {
          "name": "stdout",
          "output_type": "stream",
          "text": [
            "Probability of Cancer given skin burn, yellow fingers and alcohol abuse\n",
            "+------+----------+\n",
            "| C    |   phi(C) |\n",
            "+======+==========+\n",
            "| C(0) |   0.4296 |\n",
            "+------+----------+\n",
            "| C(1) |   0.5704 |\n",
            "+------+----------+\n"
          ]
        }
      ],
      "source": [
        "# Get probability of Cancer given skin burn, yellow fingers and alcohol abuse. P(C=1 | B=1, Y=1, A=1)\n",
        "phi_query = infer.query(['C'], evidence={'B':1, 'Y':1, 'A':1}, joint = False)\n",
        "factor = phi_query['C']\n",
        "print('Probability of Cancer given skin burn, yellow fingers and alcohol abuse')\n",
        "print(factor)"
      ]
    },
    {
      "cell_type": "markdown",
      "metadata": {
        "id": "ZIRSQ7Tcqlfj"
      },
      "source": [
        "###C) Are Smoking and skin burn independent given that cancer is present? Justify your answer.\n",
        "\n",
        "No, they are dependent. There is a V-structure between $S$, $C$ and $R$.\n",
        "$$S\\rightarrow C\\leftarrow R$$\n",
        "Given $C$, it couples $S$ and $R$. This makes $S$ and $R$ dependent. Since $R$ and $B$ are dependent due to cascade structure\n",
        "$$R \\rightarrow B$$\n",
        "then $S$ and $B$ are dependent."
      ]
    },
    {
      "cell_type": "markdown",
      "metadata": {
        "id": "GnZ1_-TprZw-"
      },
      "source": [
        "###D) What is the probability of cancer if you never abused alcohol or used a cellphone?\n",
        "$$\\text{Solve }P(C=1\\mid A=0, P=0)$$"
      ]
    },
    {
      "cell_type": "code",
      "execution_count": 38,
      "metadata": {
        "colab": {
          "base_uri": "https://localhost:8080/"
        },
        "id": "R091nz8FrVtd",
        "outputId": "14b934a2-903e-4cc6-a66d-e46cefffe081"
      },
      "outputs": [
        {
          "name": "stdout",
          "output_type": "stream",
          "text": [
            "Probability of Cancer given no alcohol and no cellphone\n",
            "+------+----------+\n",
            "| C    |   phi(C) |\n",
            "+======+==========+\n",
            "| C(0) |   0.8495 |\n",
            "+------+----------+\n",
            "| C(1) |   0.1505 |\n",
            "+------+----------+\n"
          ]
        }
      ],
      "source": [
        "# Get probability of Cancer given no alcohol and no cellphone. P(C=1 | A=0, P=0)\n",
        "phi_query = infer.query(['C'], evidence={'A':0, 'P':0}, joint = False)\n",
        "factor = phi_query['C']\n",
        "print('Probability of Cancer given no alcohol and no cellphone')\n",
        "print(factor)"
      ]
    }
  ],
  "metadata": {
    "colab": {
      "provenance": []
    },
    "kernelspec": {
      "display_name": "Python 3",
      "language": "python",
      "name": "python3"
    },
    "language_info": {
      "name": "python",
      "version": "3.11.2"
    },
    "vscode": {
      "interpreter": {
        "hash": "afeea0e8e62b5e196ffc687a62f1ca45f778234176b453e2edbe51e933c9d52f"
      }
    }
  },
  "nbformat": 4,
  "nbformat_minor": 0
}
