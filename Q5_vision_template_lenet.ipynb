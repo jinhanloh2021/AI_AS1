{
  "cells": [
    {
      "cell_type": "markdown",
      "metadata": {
        "id": "zOVes3x0KPRS"
      },
      "source": [
        "## Import tensorflow, keras modules"
      ]
    },
    {
      "cell_type": "code",
      "execution_count": 1,
      "metadata": {
        "id": "izF3NkgbKPRX"
      },
      "outputs": [
        {
          "name": "stderr",
          "output_type": "stream",
          "text": [
            "c:\\Users\\jinha\\AppData\\Local\\Programs\\Python\\Python310\\lib\\site-packages\\tqdm\\auto.py:22: TqdmWarning: IProgress not found. Please update jupyter and ipywidgets. See https://ipywidgets.readthedocs.io/en/stable/user_install.html\n",
            "  from .autonotebook import tqdm as notebook_tqdm\n"
          ]
        },
        {
          "name": "stdout",
          "output_type": "stream",
          "text": [
            "2.11.0\n",
            "2.11.0\n"
          ]
        }
      ],
      "source": [
        "#from __future__ import absolute_import, division, print_function, unicode_literals\n",
        "import tensorflow as tf\n",
        "from tensorflow.keras import layers\n",
        "import tensorflow_datasets as tfds  # For loading datasets\n",
        "import numpy as np\n",
        "import matplotlib.pyplot as plt     # For plotting images\n",
        "import cv2                          # For resizing images\n",
        "from keras import Model\n",
        "\n",
        "print(tf.version.VERSION)\n",
        "print(tf.keras.__version__)"
      ]
    },
    {
      "cell_type": "code",
      "execution_count": 2,
      "metadata": {
        "id": "GxzWqF8mOTbb"
      },
      "outputs": [
        {
          "ename": "SystemError",
          "evalue": "GPU device not found",
          "output_type": "error",
          "traceback": [
            "\u001b[1;31m---------------------------------------------------------------------------\u001b[0m",
            "\u001b[1;31mSystemError\u001b[0m                               Traceback (most recent call last)",
            "\u001b[1;32mc:\\Users\\jinha\\OneDrive - Singapore Management University\\CS420 Introduction to AI\\AS1\\Q5_vision_template_lenet.ipynb Cell 3\u001b[0m in \u001b[0;36m<cell line: 3>\u001b[1;34m()\u001b[0m\n\u001b[0;32m      <a href='vscode-notebook-cell:/c%3A/Users/jinha/OneDrive%20-%20Singapore%20Management%20University/CS420%20Introduction%20to%20AI/AS1/Q5_vision_template_lenet.ipynb#W2sZmlsZQ%3D%3D?line=1'>2</a>\u001b[0m device_name \u001b[39m=\u001b[39m tf\u001b[39m.\u001b[39mtest\u001b[39m.\u001b[39mgpu_device_name()\n\u001b[0;32m      <a href='vscode-notebook-cell:/c%3A/Users/jinha/OneDrive%20-%20Singapore%20Management%20University/CS420%20Introduction%20to%20AI/AS1/Q5_vision_template_lenet.ipynb#W2sZmlsZQ%3D%3D?line=2'>3</a>\u001b[0m \u001b[39mif\u001b[39;00m device_name \u001b[39m!=\u001b[39m \u001b[39m'\u001b[39m\u001b[39m/device:GPU:0\u001b[39m\u001b[39m'\u001b[39m:\n\u001b[1;32m----> <a href='vscode-notebook-cell:/c%3A/Users/jinha/OneDrive%20-%20Singapore%20Management%20University/CS420%20Introduction%20to%20AI/AS1/Q5_vision_template_lenet.ipynb#W2sZmlsZQ%3D%3D?line=3'>4</a>\u001b[0m   \u001b[39mraise\u001b[39;00m \u001b[39mSystemError\u001b[39;00m(\u001b[39m'\u001b[39m\u001b[39mGPU device not found\u001b[39m\u001b[39m'\u001b[39m)\n\u001b[0;32m      <a href='vscode-notebook-cell:/c%3A/Users/jinha/OneDrive%20-%20Singapore%20Management%20University/CS420%20Introduction%20to%20AI/AS1/Q5_vision_template_lenet.ipynb#W2sZmlsZQ%3D%3D?line=4'>5</a>\u001b[0m \u001b[39mprint\u001b[39m(\u001b[39m'\u001b[39m\u001b[39mFound GPU at: \u001b[39m\u001b[39m{}\u001b[39;00m\u001b[39m'\u001b[39m\u001b[39m.\u001b[39mformat(device_name))\n",
            "\u001b[1;31mSystemError\u001b[0m: GPU device not found"
          ]
        }
      ],
      "source": [
        "#testing the GPU\n",
        "device_name = tf.test.gpu_device_name()\n",
        "if device_name != '/device:GPU:0':\n",
        "  raise SystemError('GPU device not found')\n",
        "print('Found GPU at: {}'.format(device_name))"
      ]
    },
    {
      "cell_type": "markdown",
      "metadata": {
        "id": "Bc3v3STEKPRY"
      },
      "source": [
        "## Import  MNIST Dataset"
      ]
    },
    {
      "cell_type": "code",
      "execution_count": 3,
      "metadata": {
        "id": "4b-VAynpKPRY"
      },
      "outputs": [],
      "source": [
        "mnist = tf.keras.datasets.mnist\n",
        "# More dataset choices here: https://www.tensorflow.org/api_docs/python/tf/keras/datasets\n",
        "# input image dimensions\n",
        "img_x, img_y, img_z = 28, 28, 1"
      ]
    },
    {
      "cell_type": "code",
      "execution_count": 4,
      "metadata": {
        "id": "TgX6q1jaKPRZ"
      },
      "outputs": [],
      "source": [
        "# Load training data, labels; and testing data and their true labels\n",
        "(train_images, train_labels), (test_images, test_labels) = mnist.load_data()\n",
        "\n",
        "# reshape the data into a 4D tensor - (sample_number, x_img_size, y_img_size, num_channels)\n",
        "# because the MNIST is greyscale, we only have a single channel - RGB colour images would have 3\n",
        "train_images = train_images.reshape(train_images.shape[0], img_x, img_y, 1)\n",
        "test_images  = test_images.reshape(test_images.shape[0], img_x, img_y, 1)\n",
        "input_shape = (img_x, img_y, img_z)\n",
        "\n",
        "# Normalize input between 0 and 1\n",
        "# Very important\n",
        "train_images = train_images / 255.0\n",
        "test_images = test_images / 255.0"
      ]
    },
    {
      "cell_type": "code",
      "execution_count": 5,
      "metadata": {
        "id": "woHFTvT6KPRZ"
      },
      "outputs": [
        {
          "name": "stdout",
          "output_type": "stream",
          "text": [
            "(60000, 28, 28, 1)\n",
            "(60000,)\n",
            "(10000, 28, 28, 1)\n",
            "(10000,)\n"
          ]
        }
      ],
      "source": [
        "# Check shapes of train_images, train_labels etc\n",
        "print(train_images.shape)\n",
        "print(train_labels.shape)\n",
        "print(test_images.shape)\n",
        "print(test_labels.shape)"
      ]
    },
    {
      "cell_type": "markdown",
      "metadata": {
        "id": "nMfp8aTiKPRZ"
      },
      "source": [
        "### Visualize the dataset"
      ]
    },
    {
      "cell_type": "code",
      "execution_count": 6,
      "metadata": {
        "id": "tBGQjzSEKPRa"
      },
      "outputs": [],
      "source": [
        "# For printing, we name each of the 10 classes below\n",
        "class_names = ['0', '1', '2', '3', '4','5', '6', '7', '8', '9']"
      ]
    },
    {
      "cell_type": "code",
      "execution_count": 7,
      "metadata": {
        "id": "ygsx_6QIKPRa"
      },
      "outputs": [
        {
          "data": {
            "image/png": "[encoded data removed]",
            "text/plain": [
              "<Figure size 720x720 with 25 Axes>"
            ]
          },
          "metadata": {},
          "output_type": "display_data"
        }
      ],
      "source": [
        "import matplotlib.pyplot as plt\n",
        "%matplotlib inline\n",
        "\n",
        "plt.figure(figsize=(10,10))\n",
        "for i in range(25):\n",
        "    plt.subplot(5,5,i+1)\n",
        "    plt.xticks([])\n",
        "    plt.yticks([])\n",
        "    plt.grid(False)\n",
        "    plt.imshow(train_images[i].reshape(img_x, img_y), cmap=plt.cm.binary)\n",
        "    #print(train_labels[i][0])\n",
        "    plt.xlabel(class_names[train_labels[i]])"
      ]
    },
    {
      "cell_type": "markdown",
      "metadata": {
        "id": "J_5SAV3mKPRb"
      },
      "source": [
        "## (a) Create and train Lenet-5 Using Keras API on MNIST dataset **[3 points]**"
      ]
    },
    {
      "cell_type": "code",
      "execution_count": 8,
      "metadata": {
        "id": "XcZhpREqKPRb"
      },
      "outputs": [
        {
          "name": "stdout",
          "output_type": "stream",
          "text": [
            "Model: \"sequential\"\n",
            "_________________________________________________________________\n",
            " Layer (type)                Output Shape              Param #   \n",
            "=================================================================\n",
            " conv2d (Conv2D)             (None, 28, 28, 6)         156       \n",
            "                                                                 \n",
            " average_pooling2d (AverageP  (None, 14, 14, 6)        0         \n",
            " ooling2D)                                                       \n",
            "                                                                 \n",
            " conv2d_1 (Conv2D)           (None, 10, 10, 16)        2416      \n",
            "                                                                 \n",
            " average_pooling2d_1 (Averag  (None, 5, 5, 16)         0         \n",
            " ePooling2D)                                                     \n",
            "                                                                 \n",
            " conv2d_2 (Conv2D)           (None, 1, 1, 120)         48120     \n",
            "                                                                 \n",
            " flatten (Flatten)           (None, 120)               0         \n",
            "                                                                 \n",
            " dense (Dense)               (None, 84)                10164     \n",
            "                                                                 \n",
            " dense_1 (Dense)             (None, 10)                850       \n",
            "                                                                 \n",
            "=================================================================\n",
            "Total params: 61,706\n",
            "Trainable params: 61,706\n",
            "Non-trainable params: 0\n",
            "_________________________________________________________________\n"
          ]
        }
      ],
      "source": [
        "'''\n",
        "Create a NN with 1 input layer\n",
        "1 conv2D layer, 6 filters, 5x5 filter size, stride = (1, 1), activation tanh, use padding='same' argument (check it on https://keras.io/api/layers/convolution_layers/convolution2d/ )\n",
        "1 AveragePooling2D layer (use default arguments in https://www.tensorflow.org/api_docs/python/tf/keras/layers/AveragePooling2D )\n",
        "1 conv2D layer, 16 Filters, 5x5 filter size, stride = (1, 1), activation tanh, padding='valid'\n",
        "1 AveragePooling2D layer (Default arguements)\n",
        "1 conv2D layer, 120 filters, 5x5 filter size, stride = (1, 1), activation tanh, padding='valid'\n",
        "Flatten layer\n",
        "1 Dense layer, 84 units, tanh activation\n",
        "1 output layer\n",
        "'''\n",
        "input_shape = train_images[0].shape\n",
        "model = tf.keras.Sequential()\n",
        "model.add(layers.Conv2D(6, kernel_size=(5, 5), strides=(1, 1), activation='tanh', padding='same', input_shape=input_shape))\n",
        "model.add(tf.keras.layers.AveragePooling2D(pool_size=(2, 2), strides=None, padding='valid', data_format=None))\n",
        "model.add(layers.Conv2D(16, kernel_size=(5, 5), strides=(1, 1), activation='tanh', padding='valid'))\n",
        "model.add(tf.keras.layers.AveragePooling2D(pool_size=(2, 2), strides=None, padding='valid', data_format=None))\n",
        "model.add(layers.Conv2D(120, kernel_size=(5, 5), strides=(1, 1), activation='tanh', padding='valid'))\n",
        "model.add(layers.Flatten())\n",
        "model.add(layers.Dense(84, activation='tanh'))\n",
        "model.add(layers.Dense(10, activation='softmax'))\n",
        "model.summary()"
      ]
    },
    {
      "cell_type": "code",
      "execution_count": 9,
      "metadata": {
        "id": "SR07kYvaKPRc"
      },
      "outputs": [],
      "source": [
        "# Compile the model with appropriate Loss function\n",
        "model.compile(optimizer=tf.optimizers.Adam(learning_rate=0.001), \n",
        "              loss='sparse_categorical_crossentropy',\n",
        "              metrics=['accuracy'])"
      ]
    },
    {
      "cell_type": "code",
      "execution_count": 10,
      "metadata": {
        "id": "lA0ZMNoRKPRc"
      },
      "outputs": [
        {
          "name": "stdout",
          "output_type": "stream",
          "text": [
            "Epoch 1/5\n",
            "118/118 [==============================] - 7s 50ms/step - loss: 0.6002 - accuracy: 0.8411\n",
            "Epoch 2/5\n",
            "118/118 [==============================] - 6s 50ms/step - loss: 0.2302 - accuracy: 0.9313\n",
            "Epoch 3/5\n",
            "118/118 [==============================] - 6s 48ms/step - loss: 0.1541 - accuracy: 0.9542\n",
            "Epoch 4/5\n",
            "118/118 [==============================] - 6s 48ms/step - loss: 0.1132 - accuracy: 0.9670\n",
            "Epoch 5/5\n",
            "118/118 [==============================] - 6s 49ms/step - loss: 0.0898 - accuracy: 0.9732\n"
          ]
        },
        {
          "data": {
            "text/plain": [
              "<keras.callbacks.History at 0x1545e99ada0>"
            ]
          },
          "execution_count": 10,
          "metadata": {},
          "output_type": "execute_result"
        }
      ],
      "source": [
        "# Train the model on MNIST dataset\n",
        "epochs = 5\n",
        "batch_size = 512\n",
        "model.fit(train_images, train_labels, batch_size=batch_size, epochs=epochs)"
      ]
    },
    {
      "cell_type": "markdown",
      "metadata": {
        "id": "dRUc37tjKPRc"
      },
      "source": [
        "##(b) Check Accuracy on Test Data **[0.5 point]**"
      ]
    },
    {
      "cell_type": "code",
      "execution_count": 11,
      "metadata": {
        "id": "IYRjR1hwKPRc"
      },
      "outputs": [
        {
          "name": "stdout",
          "output_type": "stream",
          "text": [
            "313/313 [==============================] - 1s 3ms/step - loss: 0.0819 - accuracy: 0.9735\n"
          ]
        }
      ],
      "source": [
        "test_loss, test_acc = model.evaluate(test_images, test_labels)"
      ]
    },
    {
      "cell_type": "code",
      "execution_count": 12,
      "metadata": {
        "id": "7bN93Tv1KPRd"
      },
      "outputs": [
        {
          "name": "stdout",
          "output_type": "stream",
          "text": [
            "Test accuracy: 0.9735000133514404\n"
          ]
        }
      ],
      "source": [
        "# Try to get 90% or more accuracy\n",
        "print('Test accuracy:', test_acc)"
      ]
    },
    {
      "cell_type": "markdown",
      "metadata": {
        "id": "FOo2uV2BKPRd"
      },
      "source": [
        "### Visualize predictions on test data"
      ]
    },
    {
      "cell_type": "code",
      "execution_count": 13,
      "metadata": {
        "id": "Q-JGn4yUKPRd"
      },
      "outputs": [
        {
          "name": "stdout",
          "output_type": "stream",
          "text": [
            "313/313 [==============================] - 1s 2ms/step\n"
          ]
        }
      ],
      "source": [
        "# Get all predictions for test data\n",
        "predictions = model.predict(test_images)"
      ]
    },
    {
      "cell_type": "code",
      "execution_count": 14,
      "metadata": {
        "id": "VaOgmKTtKPRe"
      },
      "outputs": [
        {
          "data": {
            "image/png": "[encoded data removed]",
            "text/plain": [
              "<Figure size 720x720 with 25 Axes>"
            ]
          },
          "metadata": {},
          "output_type": "display_data"
        }
      ],
      "source": [
        "# Code to visualize predictions\n",
        "# Incorrect predictions are highlighted in red\n",
        "plt.figure(figsize=(10,10))\n",
        "for i in range(25):\n",
        "    plt.subplot(5,5,i+1)\n",
        "    plt.xticks([])\n",
        "    plt.yticks([])\n",
        "    plt.grid(False)\n",
        "    plt.imshow(test_images[i].reshape(28, 28), cmap=plt.cm.binary)\n",
        "    predicted_label = np.argmax(predictions[i])\n",
        "    true_label = test_labels[i]\n",
        "    if predicted_label == true_label:\n",
        "      color = 'green'\n",
        "    else:\n",
        "      color = 'red'\n",
        "    plt.xlabel(\"{} ({})\".format(class_names[predicted_label], \n",
        "                                  class_names[true_label]),\n",
        "                                  color=color)"
      ]
    },
    {
      "cell_type": "markdown",
      "metadata": {
        "id": "lkTfnHudRixb"
      },
      "source": [
        "##(c) Download binary_alpha_digits dataset using tfds, split dataset **[1 point]**"
      ]
    },
    {
      "cell_type": "code",
      "execution_count": 72,
      "metadata": {
        "id": "R2Sq5qMRKPRe"
      },
      "outputs": [
        {
          "name": "stdout",
          "output_type": "stream",
          "text": [
            "Image size: (20, 16, 1)\n",
            "Training data size: (1123, 20, 16, 1)\n",
            "Training labels size: (1123,)\n",
            "Testing data size: (281, 20, 16, 1)\n"
          ]
        }
      ],
      "source": [
        "## write your code here\n",
        "dataset_name = \"binary_alpha_digits\"\n",
        "train_ds, test_ds = tfds.load(dataset_name, split=['train[0%:80%]','train[80%:100%]'], batch_size=-1, as_supervised=True)\n",
        "\n",
        "train_images, train_labels = tfds.as_numpy(train_ds)\n",
        "test_images, test_labels   = tfds.as_numpy(test_ds)\n",
        "\n",
        "print('Image size:', train_images[0].shape)\n",
        "print('Training data size:',train_images.shape)\n",
        "print('Training labels size:', train_labels.shape)\n",
        "print('Testing data size:', test_images.shape)\n",
        "# # reshape the data into a 4D tensor - (sample_number, x_img_size, y_img_size, num_channels)\n",
        "# # because the MNIST is greyscale, we only have a single channel - RGB colour images would have 3\n",
        "# train_images = train_images.reshape(train_images.shape[0], img_x, img_y, 1)\n",
        "# test_images  = test_images.reshape(test_images.shape[0], img_x, img_y, 1)\n",
        "# input_shape = (img_x, img_y, img_z)\n",
        "\n",
        "# # Normalize input between 0 and 1\n",
        "# # Very important\n",
        "# train_images = train_images / 255.0\n",
        "# test_images = test_images / 255.0\n",
        "\n",
        "\n",
        "# ds_images, ds_labels = '<<Code for downloading binary_alpha_digits>>"
      ]
    },
    {
      "cell_type": "code",
      "execution_count": null,
      "metadata": {
        "id": "X1EMLf-I3EY7"
      },
      "outputs": [],
      "source": [
        "## Split dataset into 20% testing and 80% training\n",
        "\n",
        "# test_size = 0.2   # fraction of test data\n",
        "\n",
        "# '<<Write additional code as required>>\n",
        "\n",
        "# train_images = '<<your code>>\n",
        "# train_labels = '<<your code>>\n",
        "# test_images = '<<your code>>\n",
        "# test_labels = '<<your code>>\n",
        "\n",
        "# # Check training, testing data size\n",
        "# print(train_images.shape)\n",
        "# print(test_images.shape)"
      ]
    },
    {
      "cell_type": "markdown",
      "metadata": {
        "id": "KrWcthf3UNZd"
      },
      "source": [
        "### Visualize data"
      ]
    },
    {
      "cell_type": "code",
      "execution_count": 74,
      "metadata": {
        "id": "TORfGo084u6N"
      },
      "outputs": [
        {
          "data": {
            "image/png": "[encoded data removed]",
            "text/plain": [
              "<Figure size 720x720 with 25 Axes>"
            ]
          },
          "metadata": {},
          "output_type": "display_data"
        }
      ],
      "source": [
        "# Code to visualize predictions\n",
        "# Incorrect predictions are highlighted in red\n",
        "import matplotlib.pyplot as plt\n",
        "%matplotlib inline\n",
        "class_names = ['0', '1', '2', '3', '4','5', '6', '7', '8', '9', 'A', 'B', 'C', 'D', 'E', 'F', 'G', 'H', 'I', 'J', 'K', 'L', 'M', 'N', 'O', 'P', 'Q', 'R', 'S', 'T', 'U', 'V', 'W', 'X', 'Y', 'Z']\n",
        "\n",
        "plt.figure(figsize=(10,10))\n",
        "for i in range(25):\n",
        "    plt.subplot(5,5,i+1)\n",
        "    plt.xticks([])\n",
        "    plt.yticks([])\n",
        "    plt.grid(False)\n",
        "    plt.imshow(train_images[i].reshape(20, 16), cmap=plt.cm.binary)\n",
        "    plt.xlabel(class_names[train_labels[i]])"
      ]
    },
    {
      "cell_type": "markdown",
      "metadata": {
        "id": "Ud5K8MkmUXKW"
      },
      "source": [
        "### (d) Upscale training, testing data to MNIST image size (28, 28, 1) **[2 points]**"
      ]
    },
    {
      "cell_type": "code",
      "execution_count": 75,
      "metadata": {
        "id": "lQLJomQx62y1"
      },
      "outputs": [
        {
          "name": "stdout",
          "output_type": "stream",
          "text": [
            "Train upscale shape:  (1123, 28, 28, 1)\n",
            "Train images shape:  (1123, 20, 16, 1)\n",
            "Test upscale shape:   (281, 28, 28, 1)\n",
            "Test images shape:  (281, 20, 16, 1)\n"
          ]
        }
      ],
      "source": [
        "newSize = 28\n",
        "\n",
        "# create a numpy array for storing upscaled training images\n",
        "train_upscale = np.zeros((train_images.shape[0], newSize, newSize, 1))\n",
        "for i, t in enumerate(train_images):\n",
        "  resized = cv2.resize(t, (newSize, newSize))\n",
        "  train_upscale[i] = resized.reshape(newSize, newSize, 1)\n",
        "print(\"Train upscale shape: \",train_upscale.shape)\n",
        "print(\"Train images shape: \", train_images.shape)\n",
        "\n",
        "\n",
        "# create a numpy array for storing upscaled testing images\n",
        "test_upscale = np.zeros((test_images.shape[0], newSize, newSize, 1))\n",
        "for i, t in enumerate(test_images):\n",
        "  resized = cv2.resize(t, (newSize, newSize))\n",
        "  test_upscale[i] = resized.reshape(newSize, newSize, 1)\n",
        "\n",
        "print(\"Test upscale shape:  \", test_upscale.shape)\n",
        "print(\"Test images shape: \", test_images.shape)"
      ]
    },
    {
      "cell_type": "code",
      "execution_count": 76,
      "metadata": {
        "id": "7OojCkxz6nao"
      },
      "outputs": [
        {
          "data": {
            "image/png": "[encoded data removed]",
            "text/plain": [
              "<Figure size 720x720 with 25 Axes>"
            ]
          },
          "metadata": {},
          "output_type": "display_data"
        }
      ],
      "source": [
        "%matplotlib inline\n",
        "# Visualize upscaled images\n",
        "plt.figure(figsize=(10,10))\n",
        "for i in range(25):\n",
        "    plt.subplot(5,5,i+1)\n",
        "    plt.xticks([])\n",
        "    plt.yticks([])\n",
        "    plt.grid(False)\n",
        "    plt.imshow(train_upscale[i].reshape(28, 28), cmap=plt.cm.binary)\n",
        "    # plt.imshow(train_images[i].reshape(20, 16), cmap=plt.cm.binary)\n",
        "    # plt.imshow(train_upscale[1].reshape(28, 28), cmap=plt.cm.binary)\n",
        "    plt.xlabel(class_names[train_labels[i]])"
      ]
    },
    {
      "cell_type": "markdown",
      "metadata": {
        "id": "0tinnqZ-VUxf"
      },
      "source": [
        "##(e) Transfer learning-- Remove Last layer from your trained LeNet **[0.5 points]**\n",
        "\n"
      ]
    },
    {
      "cell_type": "code",
      "execution_count": 116,
      "metadata": {
        "id": "HpSLUEfQ4tX8"
      },
      "outputs": [
        {
          "name": "stdout",
          "output_type": "stream",
          "text": [
            "All layers: ['conv2d', 'average_pooling2d', 'conv2d_1', 'average_pooling2d_1', 'conv2d_2'].\n",
            "Frozen layers: [].\n"
          ]
        }
      ],
      "source": [
        "## You can decide whether to train the whole network again or fix layer weights from the MNIST-trained network\n",
        "## Check link: https://keras.io/getting_started/faq/#how-can-i-freeze-keras-layers \n",
        "# print(f\"Layers: {list(layer.name for layer in model.layers)}.\")\n",
        "\n",
        "## Code for removing last layer\n",
        "# transfer_model = Model(inputs=model.inputs, outputs=model.layers[-4].output) #I remove everything after flatten\n",
        "transfer_model = tf.keras.Sequential()\n",
        "for layer in model.layers[:-3]:\n",
        "  transfer_model.add(layer)\n",
        "\n",
        "#Freeze layers\n",
        "transfer_model.get_layer('conv2d').trainable = False\n",
        "\n",
        "print(f\"All layers: {list(layer.name for layer in transfer_model.layers)}.\")\n",
        "print(f\"Frozen layers: {list(layer.name for layer in transfer_model.layers if (not transfer_model.get_layer(layer.name).trainable))}.\")"
      ]
    },
    {
      "cell_type": "markdown",
      "metadata": {
        "id": "hDM8SanPbxaS"
      },
      "source": [
        "##(f) Transfer learning-- Add new layers to LeNet **[1.5 points]**\n"
      ]
    },
    {
      "cell_type": "code",
      "execution_count": 117,
      "metadata": {
        "id": "qbvcHOin3Thp"
      },
      "outputs": [
        {
          "name": "stdout",
          "output_type": "stream",
          "text": [
            "Model: \"sequential_15\"\n",
            "_________________________________________________________________\n",
            " Layer (type)                Output Shape              Param #   \n",
            "=================================================================\n",
            " conv2d (Conv2D)             (None, 28, 28, 6)         156       \n",
            "                                                                 \n",
            " average_pooling2d (AverageP  (None, 14, 14, 6)        0         \n",
            " ooling2D)                                                       \n",
            "                                                                 \n",
            " conv2d_1 (Conv2D)           (None, 10, 10, 16)        2416      \n",
            "                                                                 \n",
            " average_pooling2d_1 (Averag  (None, 5, 5, 16)         0         \n",
            " ePooling2D)                                                     \n",
            "                                                                 \n",
            " conv2d_2 (Conv2D)           (None, 1, 1, 120)         48120     \n",
            "                                                                 \n",
            " flatten_4 (Flatten)         (None, 120)               0         \n",
            "                                                                 \n",
            " dense_55 (Dense)            (None, 84)                10164     \n",
            "                                                                 \n",
            " dense_56 (Dense)            (None, 64)                5440      \n",
            "                                                                 \n",
            " dense_57 (Dense)            (None, 36)                2340      \n",
            "                                                                 \n",
            "=================================================================\n",
            "Total params: 68,636\n",
            "Trainable params: 68,636\n",
            "Non-trainable params: 0\n",
            "_________________________________________________________________\n"
          ]
        }
      ],
      "source": [
        "## Add one or more hidden layer\n",
        "## Add output layer\n",
        "# transfer_model.add(layers.Conv2D(16, kernel_size=(5, 5), strides=(1, 1), activation='tanh', padding='valid'))\n",
        "# transfer_model.add(tf.keras.layers.AveragePooling2D(pool_size=(2, 2), strides=None, padding='valid', data_format=None))\n",
        "# transfer_model.add(layers.Conv2D(120, kernel_size=(5, 5), strides=(1, 1), activation='tanh', padding='valid'))\n",
        "transfer_model.add(layers.Flatten())\n",
        "transfer_model.add(layers.Dense(84, activation='tanh'))\n",
        "transfer_model.add(layers.Dense(64, activation='tanh'))\n",
        "transfer_model.add(layers.Dense(36, activation='softmax'))\n",
        "transfer_model.summary()"
      ]
    },
    {
      "cell_type": "code",
      "execution_count": 118,
      "metadata": {
        "id": "CN6KYDus-xnd"
      },
      "outputs": [],
      "source": [
        "# Compile the model with appropriate Loss function\n",
        "transfer_model.compile(optimizer=tf.optimizers.Adam(),\n",
        "              loss='sparse_categorical_crossentropy',\n",
        "              metrics=['accuracy'])"
      ]
    },
    {
      "cell_type": "markdown",
      "metadata": {
        "id": "gcqiWiQVWeL6"
      },
      "source": [
        "##(g) Train the model and show accuracy on the testing dataset (test_upscale) **[1.5 point]**"
      ]
    },
    {
      "cell_type": "code",
      "execution_count": 119,
      "metadata": {
        "id": "TdTRYc29_MKM"
      },
      "outputs": [
        {
          "name": "stdout",
          "output_type": "stream",
          "text": [
            "Epoch 1/40\n",
            "3/3 [==============================] - 1s 31ms/step - loss: 3.8197 - accuracy: 0.0169\n",
            "Epoch 2/40\n",
            "3/3 [==============================] - 0s 31ms/step - loss: 3.4113 - accuracy: 0.0882\n",
            "Epoch 3/40\n",
            "3/3 [==============================] - 0s 33ms/step - loss: 3.0868 - accuracy: 0.2244\n",
            "Epoch 4/40\n",
            "3/3 [==============================] - 0s 35ms/step - loss: 2.8257 - accuracy: 0.3375\n",
            "Epoch 5/40\n",
            "3/3 [==============================] - 0s 35ms/step - loss: 2.6055 - accuracy: 0.4488\n",
            "Epoch 6/40\n",
            "3/3 [==============================] - 0s 34ms/step - loss: 2.4207 - accuracy: 0.5227\n",
            "Epoch 7/40\n",
            "3/3 [==============================] - 0s 41ms/step - loss: 2.2539 - accuracy: 0.5752\n",
            "Epoch 8/40\n",
            "3/3 [==============================] - 0s 37ms/step - loss: 2.1067 - accuracy: 0.6109\n",
            "Epoch 9/40\n",
            "3/3 [==============================] - 0s 41ms/step - loss: 1.9715 - accuracy: 0.6536\n",
            "Epoch 10/40\n",
            "3/3 [==============================] - 0s 37ms/step - loss: 1.8458 - accuracy: 0.6821\n",
            "Epoch 11/40\n",
            "3/3 [==============================] - 0s 34ms/step - loss: 1.7324 - accuracy: 0.7115\n",
            "Epoch 12/40\n",
            "3/3 [==============================] - 0s 34ms/step - loss: 1.6290 - accuracy: 0.7248\n",
            "Epoch 13/40\n",
            "3/3 [==============================] - 0s 36ms/step - loss: 1.5317 - accuracy: 0.7427\n",
            "Epoch 14/40\n",
            "3/3 [==============================] - 0s 35ms/step - loss: 1.4441 - accuracy: 0.7524\n",
            "Epoch 15/40\n",
            "3/3 [==============================] - 0s 37ms/step - loss: 1.3618 - accuracy: 0.7676\n",
            "Epoch 16/40\n",
            "3/3 [==============================] - 0s 35ms/step - loss: 1.2848 - accuracy: 0.7827\n",
            "Epoch 17/40\n",
            "3/3 [==============================] - 0s 37ms/step - loss: 1.2117 - accuracy: 0.7916\n",
            "Epoch 18/40\n",
            "3/3 [==============================] - 0s 34ms/step - loss: 1.1455 - accuracy: 0.8005\n",
            "Epoch 19/40\n",
            "3/3 [==============================] - 0s 33ms/step - loss: 1.0853 - accuracy: 0.8041\n",
            "Epoch 20/40\n",
            "3/3 [==============================] - 0s 33ms/step - loss: 1.0277 - accuracy: 0.8175\n",
            "Epoch 21/40\n",
            "3/3 [==============================] - 0s 37ms/step - loss: 0.9729 - accuracy: 0.8281\n",
            "Epoch 22/40\n",
            "3/3 [==============================] - 0s 37ms/step - loss: 0.9222 - accuracy: 0.8370\n",
            "Epoch 23/40\n",
            "3/3 [==============================] - 0s 43ms/step - loss: 0.8758 - accuracy: 0.8468\n",
            "Epoch 24/40\n",
            "3/3 [==============================] - 0s 40ms/step - loss: 0.8334 - accuracy: 0.8602\n",
            "Epoch 25/40\n",
            "3/3 [==============================] - 0s 36ms/step - loss: 0.7926 - accuracy: 0.8655\n",
            "Epoch 26/40\n",
            "3/3 [==============================] - 0s 35ms/step - loss: 0.7540 - accuracy: 0.8709\n",
            "Epoch 27/40\n",
            "3/3 [==============================] - 0s 35ms/step - loss: 0.7183 - accuracy: 0.8744\n",
            "Epoch 28/40\n",
            "3/3 [==============================] - 0s 35ms/step - loss: 0.6849 - accuracy: 0.8816\n",
            "Epoch 29/40\n",
            "3/3 [==============================] - 0s 34ms/step - loss: 0.6532 - accuracy: 0.8860\n",
            "Epoch 30/40\n",
            "3/3 [==============================] - 0s 38ms/step - loss: 0.6234 - accuracy: 0.8887\n",
            "Epoch 31/40\n",
            "3/3 [==============================] - 0s 35ms/step - loss: 0.5972 - accuracy: 0.8887\n",
            "Epoch 32/40\n",
            "3/3 [==============================] - 0s 32ms/step - loss: 0.5700 - accuracy: 0.8976\n",
            "Epoch 33/40\n",
            "3/3 [==============================] - 0s 31ms/step - loss: 0.5449 - accuracy: 0.9083\n",
            "Epoch 34/40\n",
            "3/3 [==============================] - 0s 32ms/step - loss: 0.5212 - accuracy: 0.9127\n",
            "Epoch 35/40\n",
            "3/3 [==============================] - 0s 34ms/step - loss: 0.4984 - accuracy: 0.9199\n",
            "Epoch 36/40\n",
            "3/3 [==============================] - 0s 35ms/step - loss: 0.4776 - accuracy: 0.9225\n",
            "Epoch 37/40\n",
            "3/3 [==============================] - 0s 36ms/step - loss: 0.4584 - accuracy: 0.9279\n",
            "Epoch 38/40\n",
            "3/3 [==============================] - 0s 39ms/step - loss: 0.4389 - accuracy: 0.9323\n",
            "Epoch 39/40\n",
            "3/3 [==============================] - 0s 36ms/step - loss: 0.4214 - accuracy: 0.9314\n",
            "Epoch 40/40\n",
            "3/3 [==============================] - 0s 34ms/step - loss: 0.4043 - accuracy: 0.9359\n"
          ]
        },
        {
          "data": {
            "text/plain": [
              "<keras.callbacks.History at 0x1540475b5b0>"
            ]
          },
          "execution_count": 119,
          "metadata": {},
          "output_type": "execute_result"
        }
      ],
      "source": [
        "## Your code here #Probably over-fitting :\n",
        "epochs = 40\n",
        "batch_size = 512\n",
        "transfer_model.fit(train_upscale, train_labels, batch_size=batch_size, epochs=epochs)"
      ]
    },
    {
      "cell_type": "code",
      "execution_count": 120,
      "metadata": {},
      "outputs": [
        {
          "name": "stdout",
          "output_type": "stream",
          "text": [
            "9/9 [==============================] - 0s 3ms/step - loss: 0.9027 - accuracy: 0.7224\n",
            "Test accuracy: 0.7224199175834656\n"
          ]
        }
      ],
      "source": [
        "test_loss, test_acc = transfer_model.evaluate(test_upscale, test_labels)\n",
        "print('Test accuracy:', test_acc)"
      ]
    },
    {
      "cell_type": "code",
      "execution_count": 121,
      "metadata": {},
      "outputs": [
        {
          "name": "stdout",
          "output_type": "stream",
          "text": [
            "9/9 [==============================] - 0s 2ms/step\n"
          ]
        },
        {
          "data": {
            "image/png": "[encoded data removed]",
            "text/plain": [
              "<Figure size 720x720 with 25 Axes>"
            ]
          },
          "metadata": {},
          "output_type": "display_data"
        }
      ],
      "source": [
        "predictions = transfer_model.predict(test_upscale)\n",
        "plt.figure(figsize=(10,10))\n",
        "for i in range(25):\n",
        "    plt.subplot(5,5,i+1)\n",
        "    plt.xticks([])\n",
        "    plt.yticks([])\n",
        "    plt.grid(False)\n",
        "    plt.imshow(test_upscale[i].reshape(28, 28), cmap=plt.cm.binary)\n",
        "    predicted_label = np.argmax(predictions[i])\n",
        "    true_label = test_labels[i]\n",
        "    if predicted_label == true_label:\n",
        "      color = 'green'\n",
        "    else:\n",
        "      color = 'red'\n",
        "    plt.xlabel(\"{} ({})\".format(class_names[predicted_label], \n",
        "                                  class_names[true_label]),\n",
        "                                  color=color)"
      ]
    }
  ],
  "metadata": {
    "accelerator": "GPU",
    "colab": {
      "provenance": []
    },
    "kernelspec": {
      "display_name": "Python 3",
      "language": "python",
      "name": "python3"
    },
    "language_info": {
      "codemirror_mode": {
        "name": "ipython",
        "version": 3
      },
      "file_extension": ".py",
      "mimetype": "text/x-python",
      "name": "python",
      "nbconvert_exporter": "python",
      "pygments_lexer": "ipython3",
      "version": "3.10.6"
    },
    "vscode": {
      "interpreter": {
        "hash": "39b902d85304f92b6af859c7d58facccbdc227f11318856df96fca4be92a75ba"
      }
    }
  },
  "nbformat": 4,
  "nbformat_minor": 0
}
